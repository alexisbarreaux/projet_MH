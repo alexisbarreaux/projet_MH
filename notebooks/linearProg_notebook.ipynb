{
 "cells": [
  {
   "cell_type": "code",
   "execution_count": 1,
   "metadata": {},
   "outputs": [],
   "source": [
    "# imports\n",
    "from pathlib import Path\n",
    "from time import time\n",
    "\n",
    "import numpy as np\n",
    "import pandas as pd\n",
    "\n",
    "from linearProg.PL import LP\n",
    "from linearProg.PLNE import MIP\n",
    "\n",
    "from utils import (read_single_problem_from_path_as_adjacency,\n",
    " read_single_problem_from_path_as_sparse, \n",
    " read_single_problem_from_path_as_sparse_from_adjacency,\n",
    " order_nodes_in_descending_order)\n",
    "from constants import BASE_INSTANCES_FILES\n",
    "\n",
    "# Constants\n",
    "ROOT_DIR = Path.cwd().parent\n",
    "# Instances pathes\n",
    "INSTANCES_DIR = ROOT_DIR / \"instances\"\n",
    "BASE_INSTANCES_DIR = INSTANCES_DIR / \"project_instances\"\n",
    "OTHER_INSTANCES_DIR = INSTANCES_DIR / \"other_instances\"\n"
   ]
  },
  {
   "cell_type": "code",
   "execution_count": 2,
   "metadata": {},
   "outputs": [
    {
     "name": "stdout",
     "output_type": "stream",
     "text": [
      "Model: naive_cplex\n",
      " - number of variables: 200\n",
      "   - binary=0, integer=0, continuous=200\n",
      " - number of constraints: 10024\n",
      "   - linear=10024\n",
      " - parameters: defaults\n",
      " - objective: maximize\n",
      " - problem type is: LP\n"
     ]
    },
    {
     "ename": "DOcplexLimitsExceeded",
     "evalue": "**** Promotional version. Problem size limits (1000 vars, 1000 consts) exceeded, model has 200 vars, 10024 consts, CPLEX code=1016",
     "output_type": "error",
     "traceback": [
      "\u001b[1;31m---------------------------------------------------------------------------\u001b[0m",
      "\u001b[1;31mCplexSolverError\u001b[0m                          Traceback (most recent call last)",
      "File \u001b[1;32mc:\\Users\\sulia\\Documents\\MPRO\\MH\\projet_MH\\lib\\site-packages\\docplex\\mp\\cplex_engine.py:1979\u001b[0m, in \u001b[0;36mCplexEngine.solve\u001b[1;34m(self, mdl, parameters, **kwargs)\u001b[0m\n\u001b[0;32m   1978\u001b[0m \u001b[39melse\u001b[39;00m:\n\u001b[1;32m-> 1979\u001b[0m     cpx\u001b[39m.\u001b[39;49msolve()\n\u001b[0;32m   1981\u001b[0m cpx_status \u001b[39m=\u001b[39m cpx\u001b[39m.\u001b[39msolution\u001b[39m.\u001b[39mget_status()\n",
      "File \u001b[1;32mc:\\Users\\sulia\\Documents\\MPRO\\MH\\projet_MH\\lib\\site-packages\\cplex\\__init__.py:1312\u001b[0m, in \u001b[0;36mCplex.solve\u001b[1;34m(self, paramsets)\u001b[0m\n\u001b[0;32m   1311\u001b[0m \u001b[39melif\u001b[39;00m \u001b[39mnot\u001b[39;00m \u001b[39mself\u001b[39m\u001b[39m.\u001b[39mobjective\u001b[39m.\u001b[39mget_num_quadratic_nonzeros() \u001b[39m>\u001b[39m \u001b[39m0\u001b[39m:\n\u001b[1;32m-> 1312\u001b[0m     _proc\u001b[39m.\u001b[39;49mlpopt(\u001b[39mself\u001b[39;49m\u001b[39m.\u001b[39;49m_env\u001b[39m.\u001b[39;49m_e, \u001b[39mself\u001b[39;49m\u001b[39m.\u001b[39;49m_lp)\n\u001b[0;32m   1313\u001b[0m \u001b[39melse\u001b[39;00m:\n",
      "File \u001b[1;32mc:\\Users\\sulia\\Documents\\MPRO\\MH\\projet_MH\\lib\\site-packages\\cplex\\_internal\\_procedural.py:738\u001b[0m, in \u001b[0;36mlpopt\u001b[1;34m(env, lp)\u001b[0m\n\u001b[0;32m    737\u001b[0m     status \u001b[39m=\u001b[39m CR\u001b[39m.\u001b[39mCPXXlpopt(env, lp)\n\u001b[1;32m--> 738\u001b[0m check_status(env, status)\n",
      "File \u001b[1;32mc:\\Users\\sulia\\Documents\\MPRO\\MH\\projet_MH\\lib\\site-packages\\cplex\\_internal\\_procedural.py:249\u001b[0m, in \u001b[0;36mStatusChecker.__call__\u001b[1;34m(self, env, status, from_cb)\u001b[0m\n\u001b[0;32m    248\u001b[0m         error_string \u001b[39m=\u001b[39m geterrorstring(env, status)\n\u001b[1;32m--> 249\u001b[0m \u001b[39mraise\u001b[39;00m CplexSolverError(error_string, env, status)\n",
      "\u001b[1;31mCplexSolverError\u001b[0m: CPLEX Error  1016: Community Edition. Problem size limits exceeded. Purchase at http://ibm.biz/error1016.",
      "\nDuring handling of the above exception, another exception occurred:\n",
      "\u001b[1;31mDOcplexLimitsExceeded\u001b[0m                     Traceback (most recent call last)",
      "Cell \u001b[1;32mIn [2], line 23\u001b[0m\n\u001b[0;32m     20\u001b[0m instance_reading_times\u001b[39m.\u001b[39mappend(end_of_read_time \u001b[39m-\u001b[39m start_time)\n\u001b[0;32m     22\u001b[0m \u001b[39m# Clique building\u001b[39;00m\n\u001b[1;32m---> 23\u001b[0m clique_bound \u001b[39m=\u001b[39m LP(graph\u001b[39m=\u001b[39;49mgraph)\n\u001b[0;32m     24\u001b[0m clique_bounds\u001b[39m.\u001b[39mappend(clique_bound)\n\u001b[0;32m     25\u001b[0m end_of_clique_time \u001b[39m=\u001b[39m time()\n",
      "File \u001b[1;32mc:\\Users\\sulia\\Documents\\MPRO\\MH\\projet_MH\\linearProg\\PL.py:25\u001b[0m, in \u001b[0;36mLP\u001b[1;34m(graph)\u001b[0m\n\u001b[0;32m     21\u001b[0m model\u001b[39m.\u001b[39mprint_information()\n\u001b[0;32m     23\u001b[0m \u001b[39m# model.set_time_limit(60)\u001b[39;00m\n\u001b[1;32m---> 25\u001b[0m model\u001b[39m.\u001b[39;49msolve()\n\u001b[0;32m     27\u001b[0m model\u001b[39m.\u001b[39mprint_solution()\n\u001b[0;32m     29\u001b[0m \u001b[39mreturn\u001b[39;00m \u001b[39mint\u001b[39m(model\u001b[39m.\u001b[39mobjective_value)\n",
      "File \u001b[1;32mc:\\Users\\sulia\\Documents\\MPRO\\MH\\projet_MH\\lib\\site-packages\\docplex\\mp\\model.py:4826\u001b[0m, in \u001b[0;36mModel.solve\u001b[1;34m(self, **kwargs)\u001b[0m\n\u001b[0;32m   4823\u001b[0m \u001b[39mif\u001b[39;00m \u001b[39mself\u001b[39m\u001b[39m.\u001b[39menvironment\u001b[39m.\u001b[39mhas_cplex:\n\u001b[0;32m   4824\u001b[0m     \u001b[39m# take arg clean flag or this model's\u001b[39;00m\n\u001b[0;32m   4825\u001b[0m     used_clean_before_solve \u001b[39m=\u001b[39m kwargs\u001b[39m.\u001b[39mget(\u001b[39m'\u001b[39m\u001b[39mclean_before_solve\u001b[39m\u001b[39m'\u001b[39m, \u001b[39mself\u001b[39m\u001b[39m.\u001b[39mclean_before_solve)\n\u001b[1;32m-> 4826\u001b[0m     \u001b[39mreturn\u001b[39;00m \u001b[39mself\u001b[39;49m\u001b[39m.\u001b[39;49m_solve_local(context, used_clean_before_solve, parameter_sets)\u001b[39m# lex_timelimits, lex_mipgaps)\u001b[39;00m\n\u001b[0;32m   4827\u001b[0m \u001b[39melse\u001b[39;00m:\n\u001b[0;32m   4828\u001b[0m     \u001b[39mreturn\u001b[39;00m \u001b[39mself\u001b[39m\u001b[39m.\u001b[39mfatal(\u001b[39m\"\u001b[39m\u001b[39mCannot solve model: no CPLEX runtime found.\u001b[39m\u001b[39m\"\u001b[39m)\n",
      "File \u001b[1;32mc:\\Users\\sulia\\Documents\\MPRO\\MH\\projet_MH\\lib\\site-packages\\docplex\\mp\\model.py:4874\u001b[0m, in \u001b[0;36mModel._solve_local\u001b[1;34m(self, context, clean_before_solve, parameter_sets)\u001b[0m\n\u001b[0;32m   4872\u001b[0m \u001b[39mexcept\u001b[39;00m DOcplexException \u001b[39mas\u001b[39;00m docpx_e:  \u001b[39m# pragma: no cover\u001b[39;00m\n\u001b[0;32m   4873\u001b[0m     new_solution \u001b[39m=\u001b[39m \u001b[39mNone\u001b[39;00m\n\u001b[1;32m-> 4874\u001b[0m     \u001b[39mraise\u001b[39;00m docpx_e\n\u001b[0;32m   4876\u001b[0m \u001b[39mexcept\u001b[39;00m \u001b[39mException\u001b[39;00m \u001b[39mas\u001b[39;00m e:\n\u001b[0;32m   4877\u001b[0m     new_solution \u001b[39m=\u001b[39m \u001b[39mNone\u001b[39;00m\n",
      "File \u001b[1;32mc:\\Users\\sulia\\Documents\\MPRO\\MH\\projet_MH\\lib\\site-packages\\docplex\\mp\\model.py:4863\u001b[0m, in \u001b[0;36mModel._solve_local\u001b[1;34m(self, context, clean_before_solve, parameter_sets)\u001b[0m\n\u001b[0;32m   4860\u001b[0m \u001b[39m# assert used_parameters is not None\u001b[39;00m\n\u001b[0;32m   4861\u001b[0m \u001b[39mself\u001b[39m\u001b[39m.\u001b[39m_apply_parameters_to_engine(used_parameters)\n\u001b[1;32m-> 4863\u001b[0m new_solution \u001b[39m=\u001b[39m self_engine\u001b[39m.\u001b[39;49msolve(\u001b[39mself\u001b[39;49m,\n\u001b[0;32m   4864\u001b[0m                                  parameters\u001b[39m=\u001b[39;49mused_parameters,\n\u001b[0;32m   4865\u001b[0m                                  clean_before_solve\u001b[39m=\u001b[39;49mclean_before_solve,\n\u001b[0;32m   4866\u001b[0m                                  parameter_sets \u001b[39m=\u001b[39;49m parameter_sets)\n\u001b[0;32m   4868\u001b[0m \u001b[39m# store solve status as returned by the engine.\u001b[39;00m\n\u001b[0;32m   4869\u001b[0m engine_status \u001b[39m=\u001b[39m self_engine\u001b[39m.\u001b[39mget_solve_status()\n",
      "File \u001b[1;32mc:\\Users\\sulia\\Documents\\MPRO\\MH\\projet_MH\\lib\\site-packages\\docplex\\mp\\cplex_engine.py:2015\u001b[0m, in \u001b[0;36mCplexEngine.solve\u001b[1;34m(self, mdl, parameters, **kwargs)\u001b[0m\n\u001b[0;32m   2013\u001b[0m     cpx_status \u001b[39m=\u001b[39m \u001b[39m1016\u001b[39m\n\u001b[0;32m   2014\u001b[0m     cpx_status_string \u001b[39m=\u001b[39m \u001b[39m\"\u001b[39m\u001b[39mPromotional version. Problem size limits exceeded., CPLEX code=1016.\u001b[39m\u001b[39m\"\u001b[39m\n\u001b[1;32m-> 2015\u001b[0m     \u001b[39mself\u001b[39;49m\u001b[39m.\u001b[39;49m_model\u001b[39m.\u001b[39;49mfatal_ce_limits()\n\u001b[0;32m   2017\u001b[0m \u001b[39melif\u001b[39;00m \u001b[39mself\u001b[39m\u001b[39m.\u001b[39mfix_multiobj_error_1300 \u001b[39mand\u001b[39;00m \u001b[39m1300\u001b[39m \u001b[39m==\u001b[39m cpx_code:\n\u001b[0;32m   2018\u001b[0m     \u001b[39m# multiobjective error but there IS a solution (?)\u001b[39;00m\n\u001b[0;32m   2019\u001b[0m     cpx_status \u001b[39m=\u001b[39m \u001b[39m1300\u001b[39m\n",
      "File \u001b[1;32mc:\\Users\\sulia\\Documents\\MPRO\\MH\\projet_MH\\lib\\site-packages\\docplex\\mp\\model.py:1084\u001b[0m, in \u001b[0;36mModel.fatal_ce_limits\u001b[1;34m(self, *args)\u001b[0m\n\u001b[0;32m   1081\u001b[0m nb_vars \u001b[39m=\u001b[39m \u001b[39mself\u001b[39m\u001b[39m.\u001b[39mnumber_of_variables\n\u001b[0;32m   1082\u001b[0m nb_constraints \u001b[39m=\u001b[39m \u001b[39mself\u001b[39m\u001b[39m.\u001b[39mnumber_of_constraints\n\u001b[1;32m-> 1084\u001b[0m \u001b[39mself\u001b[39;49m\u001b[39m.\u001b[39;49m_error_handler\u001b[39m.\u001b[39;49mfatal_limits_exceeded(nb_vars, nb_constraints)\n",
      "File \u001b[1;32mc:\\Users\\sulia\\Documents\\MPRO\\MH\\projet_MH\\lib\\site-packages\\docplex\\mp\\error_handler.py:214\u001b[0m, in \u001b[0;36mAbstractErrorHandler.fatal_limits_exceeded\u001b[1;34m(self, nb_vars, nb_constraints)\u001b[0m\n\u001b[0;32m    212\u001b[0m \u001b[39mdef\u001b[39;00m \u001b[39mfatal_limits_exceeded\u001b[39m(\u001b[39mself\u001b[39m, nb_vars, nb_constraints):\n\u001b[0;32m    213\u001b[0m     docplex_error_stop_here()\n\u001b[1;32m--> 214\u001b[0m     \u001b[39mraise\u001b[39;00m DOcplexLimitsExceeded(nb_vars, nb_constraints)\n",
      "\u001b[1;31mDOcplexLimitsExceeded\u001b[0m: **** Promotional version. Problem size limits (1000 vars, 1000 consts) exceeded, model has 200 vars, 10024 consts, CPLEX code=1016"
     ]
    }
   ],
   "source": [
    "files = []\n",
    "instance_reading_times = []\n",
    "clique_creating_times = []\n",
    "total_times = []\n",
    "clique_bounds = []\n",
    "methods = []\n",
    "\n",
    "\n",
    "for file in BASE_INSTANCES_FILES:\n",
    "    methods.append(\"PL\")\n",
    "    files.append(file)\n",
    "\n",
    "    # File loading\n",
    "    start_time = time()\n",
    "    _,_,graph, _ = read_single_problem_from_path_as_adjacency(\n",
    "        instance_path=BASE_INSTANCES_DIR\n",
    "        / file\n",
    "    )\n",
    "    end_of_read_time = time()\n",
    "    instance_reading_times.append(end_of_read_time - start_time)\n",
    "\n",
    "    # Clique building\n",
    "    clique_bound = LP(graph=graph)\n",
    "    clique_bounds.append(clique_bound)\n",
    "    end_of_clique_time = time()\n",
    "    clique_creating_times.append(end_of_clique_time - end_of_read_time)\n",
    "\n",
    "    total_times.append(time() - start_time)\n",
    "\n",
    "display_dataframe = pd.DataFrame(\n",
    "    {\n",
    "        \"file\": files,\n",
    "        \"method\": methods,\n",
    "        \"clique bound\": clique_bounds,\n",
    "        \"instance time\": instance_reading_times,\n",
    "        \"bound time\": clique_creating_times,\n",
    "        \"total time\": total_times,\n",
    "    }\n",
    ")\n",
    "print(display_dataframe)"
   ]
  },
  {
   "cell_type": "code",
   "execution_count": null,
   "metadata": {},
   "outputs": [
    {
     "ename": "TypeError",
     "evalue": "can only concatenate str (not \"int\") to str",
     "output_type": "error",
     "traceback": [
      "\u001b[1;31m---------------------------------------------------------------------------\u001b[0m",
      "\u001b[1;31mTypeError\u001b[0m                                 Traceback (most recent call last)",
      "Cell \u001b[1;32mIn [6], line 23\u001b[0m\n\u001b[0;32m     20\u001b[0m instance_reading_times\u001b[39m.\u001b[39mappend(end_of_read_time \u001b[39m-\u001b[39m start_time)\n\u001b[0;32m     22\u001b[0m \u001b[39m# Clique building\u001b[39;00m\n\u001b[1;32m---> 23\u001b[0m clique_size \u001b[39m=\u001b[39m MIP(graph\u001b[39m=\u001b[39;49mgraph)\n\u001b[0;32m     24\u001b[0m clique_sizes\u001b[39m.\u001b[39mappend(clique_size)\n\u001b[0;32m     25\u001b[0m end_of_clique_time \u001b[39m=\u001b[39m time()\n",
      "File \u001b[1;32mc:\\Users\\sulia\\Documents\\MPRO\\MH\\projet_MH\\linearProg\\PLNE.py:10\u001b[0m, in \u001b[0;36mMIP\u001b[1;34m(graph)\u001b[0m\n\u001b[0;32m      6\u001b[0m model \u001b[39m=\u001b[39m Model(name\u001b[39m=\u001b[39m\u001b[39m\"\u001b[39m\u001b[39mnaive_cplex\u001b[39m\u001b[39m\"\u001b[39m)\n\u001b[0;32m      8\u001b[0m n \u001b[39m=\u001b[39m \u001b[39mlen\u001b[39m(graph)\n\u001b[1;32m---> 10\u001b[0m x_list \u001b[39m=\u001b[39m [\n\u001b[0;32m     11\u001b[0m     model\u001b[39m.\u001b[39mbinary_var(name\u001b[39m=\u001b[39m\u001b[39m\"\u001b[39m\u001b[39mx_\u001b[39m\u001b[39m\"\u001b[39m \u001b[39m+\u001b[39m i) \u001b[39mfor\u001b[39;00m i \u001b[39min\u001b[39;00m \u001b[39mrange\u001b[39m(n)\n\u001b[0;32m     12\u001b[0m ]  \u001b[39m# Creating the variable x_i for each vertex i in the graph\u001b[39;00m\n\u001b[0;32m     14\u001b[0m \u001b[39mfor\u001b[39;00m i \u001b[39min\u001b[39;00m \u001b[39mrange\u001b[39m(n):  \u001b[39m# Adding the constraints of the problem\u001b[39;00m\n\u001b[0;32m     15\u001b[0m     \u001b[39mfor\u001b[39;00m j \u001b[39min\u001b[39;00m \u001b[39mrange\u001b[39m(i):\n",
      "File \u001b[1;32mc:\\Users\\sulia\\Documents\\MPRO\\MH\\projet_MH\\linearProg\\PLNE.py:11\u001b[0m, in \u001b[0;36m<listcomp>\u001b[1;34m(.0)\u001b[0m\n\u001b[0;32m      6\u001b[0m model \u001b[39m=\u001b[39m Model(name\u001b[39m=\u001b[39m\u001b[39m\"\u001b[39m\u001b[39mnaive_cplex\u001b[39m\u001b[39m\"\u001b[39m)\n\u001b[0;32m      8\u001b[0m n \u001b[39m=\u001b[39m \u001b[39mlen\u001b[39m(graph)\n\u001b[0;32m     10\u001b[0m x_list \u001b[39m=\u001b[39m [\n\u001b[1;32m---> 11\u001b[0m     model\u001b[39m.\u001b[39mbinary_var(name\u001b[39m=\u001b[39m\u001b[39m\"\u001b[39;49m\u001b[39mx_\u001b[39;49m\u001b[39m\"\u001b[39;49m \u001b[39m+\u001b[39;49m i) \u001b[39mfor\u001b[39;00m i \u001b[39min\u001b[39;00m \u001b[39mrange\u001b[39m(n)\n\u001b[0;32m     12\u001b[0m ]  \u001b[39m# Creating the variable x_i for each vertex i in the graph\u001b[39;00m\n\u001b[0;32m     14\u001b[0m \u001b[39mfor\u001b[39;00m i \u001b[39min\u001b[39;00m \u001b[39mrange\u001b[39m(n):  \u001b[39m# Adding the constraints of the problem\u001b[39;00m\n\u001b[0;32m     15\u001b[0m     \u001b[39mfor\u001b[39;00m j \u001b[39min\u001b[39;00m \u001b[39mrange\u001b[39m(i):\n",
      "\u001b[1;31mTypeError\u001b[0m: can only concatenate str (not \"int\") to str"
     ]
    }
   ],
   "source": [
    "files = []\n",
    "instance_reading_times = []\n",
    "clique_creating_times = []\n",
    "total_times = []\n",
    "clique_sizes = []\n",
    "methods = []\n",
    "\n",
    "\n",
    "for file in BASE_INSTANCES_FILES:\n",
    "    methods.append(\"PLNE\")\n",
    "    files.append(file)\n",
    "\n",
    "    # File loading\n",
    "    start_time = time()\n",
    "    _,_,graph, _ = read_single_problem_from_path_as_adjacency(\n",
    "        instance_path=BASE_INSTANCES_DIR\n",
    "        / file\n",
    "    )\n",
    "    end_of_read_time = time()\n",
    "    instance_reading_times.append(end_of_read_time - start_time)\n",
    "\n",
    "    # Clique building\n",
    "    clique_size = MIP(graph=graph)\n",
    "    clique_sizes.append(clique_size)\n",
    "    end_of_clique_time = time()\n",
    "    clique_creating_times.append(end_of_clique_time - end_of_read_time)\n",
    "\n",
    "    total_times.append(time() - start_time)\n",
    "\n",
    "display_dataframe = pd.DataFrame(\n",
    "    {\n",
    "        \"file\": files,\n",
    "        \"method\": methods,\n",
    "        \"clique size\": clique_sizes,\n",
    "        \"instance time\": instance_reading_times,\n",
    "        \"clique time\": clique_creating_times,\n",
    "        \"total time\": total_times,\n",
    "    }\n",
    ")\n",
    "print(display_dataframe)"
   ]
  }
 ],
 "metadata": {
  "kernelspec": {
   "display_name": "Python 3.10.5 ('projet_MH': venv)",
   "language": "python",
   "name": "python3"
  },
  "language_info": {
   "codemirror_mode": {
    "name": "ipython",
    "version": 3
   },
   "file_extension": ".py",
   "mimetype": "text/x-python",
   "name": "python",
   "nbconvert_exporter": "python",
   "pygments_lexer": "ipython3",
   "version": "3.10.5"
  },
  "orig_nbformat": 4,
  "vscode": {
   "interpreter": {
    "hash": "183896e14abb0fccbaad6d82789751f07dc7da7d1b50b324bf0fc429a34b0bfd"
   }
  }
 },
 "nbformat": 4,
 "nbformat_minor": 2
}

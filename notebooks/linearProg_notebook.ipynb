{
 "cells": [
  {
   "cell_type": "code",
   "execution_count": 2,
   "metadata": {},
   "outputs": [
    {
     "ename": "ModuleNotFoundError",
     "evalue": "No module named 'docplex'",
     "output_type": "error",
     "traceback": [
      "\u001b[1;31m---------------------------------------------------------------------------\u001b[0m",
      "\u001b[1;31mModuleNotFoundError\u001b[0m                       Traceback (most recent call last)",
      "Cell \u001b[1;32mIn [2], line 8\u001b[0m\n\u001b[0;32m      5\u001b[0m \u001b[39mimport\u001b[39;00m \u001b[39mnumpy\u001b[39;00m \u001b[39mas\u001b[39;00m \u001b[39mnp\u001b[39;00m\n\u001b[0;32m      6\u001b[0m \u001b[39mimport\u001b[39;00m \u001b[39mpandas\u001b[39;00m \u001b[39mas\u001b[39;00m \u001b[39mpd\u001b[39;00m\n\u001b[1;32m----> 8\u001b[0m \u001b[39mfrom\u001b[39;00m \u001b[39mlinearProg\u001b[39;00m\u001b[39m.\u001b[39;00m\u001b[39mPL\u001b[39;00m \u001b[39mimport\u001b[39;00m LP\n\u001b[0;32m      9\u001b[0m \u001b[39mfrom\u001b[39;00m \u001b[39mlinearProg\u001b[39;00m\u001b[39m.\u001b[39;00m\u001b[39mPLNE\u001b[39;00m \u001b[39mimport\u001b[39;00m MIP\n\u001b[0;32m     11\u001b[0m \u001b[39mfrom\u001b[39;00m \u001b[39mutils\u001b[39;00m \u001b[39mimport\u001b[39;00m (read_single_problem_from_path_as_adjacency,\n\u001b[0;32m     12\u001b[0m  read_single_problem_from_path_as_sparse, \n\u001b[0;32m     13\u001b[0m  read_single_problem_from_path_as_sparse_from_adjacency,\n\u001b[0;32m     14\u001b[0m  order_nodes_in_descending_order)\n",
      "File \u001b[1;32mc:\\Users\\sulia\\Documents\\MPRO\\MH\\projet_MH\\linearProg\\PL.py:1\u001b[0m\n\u001b[1;32m----> 1\u001b[0m \u001b[39mfrom\u001b[39;00m \u001b[39mdocplex\u001b[39;00m\u001b[39m.\u001b[39;00m\u001b[39mmp\u001b[39;00m\u001b[39m.\u001b[39;00m\u001b[39mmodel\u001b[39;00m \u001b[39mimport\u001b[39;00m Model\n\u001b[0;32m      2\u001b[0m \u001b[39mimport\u001b[39;00m \u001b[39mnumpy\u001b[39;00m \u001b[39mas\u001b[39;00m \u001b[39mnp\u001b[39;00m\n\u001b[0;32m      5\u001b[0m \u001b[39mdef\u001b[39;00m \u001b[39mLP\u001b[39m(graph: np\u001b[39m.\u001b[39mndarray):\n",
      "\u001b[1;31mModuleNotFoundError\u001b[0m: No module named 'docplex'"
     ]
    }
   ],
   "source": [
    "# imports\n",
    "from pathlib import Path\n",
    "from time import time\n",
    "\n",
    "import numpy as np\n",
    "import pandas as pd\n",
    "\n",
    "from linearProg.PL import LP\n",
    "from linearProg.PLNE import MIP\n",
    "\n",
    "from utils import (read_single_problem_from_path_as_adjacency,\n",
    " read_single_problem_from_path_as_sparse, \n",
    " read_single_problem_from_path_as_sparse_from_adjacency,\n",
    " order_nodes_in_descending_order)\n",
    "from constants import BASE_INSTANCES_FILES\n",
    "\n",
    "# Constants\n",
    "ROOT_DIR = Path.cwd().parent\n",
    "# Instances pathes\n",
    "INSTANCES_DIR = ROOT_DIR / \"instances\"\n",
    "BASE_INSTANCES_DIR = INSTANCES_DIR / \"project_instances\"\n",
    "OTHER_INSTANCES_DIR = INSTANCES_DIR / \"other_instances\"\n"
   ]
  },
  {
   "cell_type": "code",
   "execution_count": 3,
   "metadata": {},
   "outputs": [
    {
     "ename": "ModuleNotFoundError",
     "evalue": "No module named 'docplex'",
     "output_type": "error",
     "traceback": [
      "\u001b[1;31m---------------------------------------------------------------------------\u001b[0m",
      "\u001b[1;31mModuleNotFoundError\u001b[0m                       Traceback (most recent call last)",
      "Cell \u001b[1;32mIn [3], line 6\u001b[0m\n\u001b[0;32m      1\u001b[0m _,_,graph, _ \u001b[39m=\u001b[39m read_single_problem_from_path_as_adjacency(\n\u001b[0;32m      2\u001b[0m     \u001b[39m# instance_path=BASE_INSTANCES_DIR/ \"brock200_2.col\"\u001b[39;00m\n\u001b[0;32m      3\u001b[0m     instance_path\u001b[39m=\u001b[39mBASE_INSTANCES_DIR\n\u001b[0;32m      4\u001b[0m     \u001b[39m/\u001b[39m \u001b[39m\"\u001b[39m\u001b[39mrandom-10.col\u001b[39m\u001b[39m\"\u001b[39m\n\u001b[0;32m      5\u001b[0m )\n\u001b[1;32m----> 6\u001b[0m \u001b[39mfrom\u001b[39;00m \u001b[39mlinearProg\u001b[39;00m\u001b[39m.\u001b[39;00m\u001b[39mPL\u001b[39;00m \u001b[39mimport\u001b[39;00m LP\n\u001b[0;32m      8\u001b[0m LP(graph\u001b[39m=\u001b[39mgraph)\n",
      "File \u001b[1;32mc:\\Users\\sulia\\Documents\\MPRO\\MH\\projet_MH\\linearProg\\PL.py:1\u001b[0m\n\u001b[1;32m----> 1\u001b[0m \u001b[39mfrom\u001b[39;00m \u001b[39mdocplex\u001b[39;00m\u001b[39m.\u001b[39;00m\u001b[39mmp\u001b[39;00m\u001b[39m.\u001b[39;00m\u001b[39mmodel\u001b[39;00m \u001b[39mimport\u001b[39;00m Model\n\u001b[0;32m      2\u001b[0m \u001b[39mimport\u001b[39;00m \u001b[39mnumpy\u001b[39;00m \u001b[39mas\u001b[39;00m \u001b[39mnp\u001b[39;00m\n\u001b[0;32m      5\u001b[0m \u001b[39mdef\u001b[39;00m \u001b[39mLP\u001b[39m(graph: np\u001b[39m.\u001b[39mndarray):\n",
      "\u001b[1;31mModuleNotFoundError\u001b[0m: No module named 'docplex'"
     ]
    }
   ],
   "source": [
    "files = []\n",
    "instance_reading_times = []\n",
    "clique_creating_times = []\n",
    "total_times = []\n",
    "clique_bounds = []\n",
    "methods = []\n",
    "\n",
    "\n",
    "for file in BASE_INSTANCES_FILES:\n",
    "    methods.append(\"PL\")\n",
    "    files.append(file)\n",
    "\n",
    "    # File loading\n",
    "    start_time = time()\n",
    "    _,_,graph, _ = read_single_problem_from_path_as_adjacency(\n",
    "        instance_path=BASE_INSTANCES_DIR\n",
    "        / file\n",
    "    )\n",
    "    end_of_read_time = time()\n",
    "    instance_reading_times.append(end_of_read_time - start_time)\n",
    "\n",
    "    # Clique building\n",
    "    clique_bound = LP(graph=graph)\n",
    "    clique_bounds.append(clique_bound)\n",
    "    end_of_clique_time = time()\n",
    "    clique_creating_times.append(end_of_clique_time - end_of_read_time)\n",
    "\n",
    "    total_times.append(time() - start_time)\n",
    "\n",
    "display_dataframe = pd.DataFrame(\n",
    "    {\n",
    "        \"file\": files,\n",
    "        \"method\": methods,\n",
    "        \"clique bound\": clique_bounds,\n",
    "        \"instance time\": instance_reading_times,\n",
    "        \"bound time\": clique_creating_times,\n",
    "        \"total time\": total_times,\n",
    "    }\n",
    ")\n",
    "print(display_dataframe)"
   ]
  },
  {
   "cell_type": "code",
   "execution_count": null,
   "metadata": {},
   "outputs": [],
   "source": [
    "files = []\n",
    "instance_reading_times = []\n",
    "clique_creating_times = []\n",
    "total_times = []\n",
    "clique_sizes = []\n",
    "methods = []\n",
    "\n",
    "\n",
    "for file in BASE_INSTANCES_FILES:\n",
    "    methods.append(\"PLNE\")\n",
    "    files.append(file)\n",
    "\n",
    "    # File loading\n",
    "    start_time = time()\n",
    "    _,_,graph, _ = read_single_problem_from_path_as_adjacency(\n",
    "        instance_path=BASE_INSTANCES_DIR\n",
    "        / file\n",
    "    )\n",
    "    end_of_read_time = time()\n",
    "    instance_reading_times.append(end_of_read_time - start_time)\n",
    "\n",
    "    # Clique building\n",
    "    clique_size = MIP(graph=graph)\n",
    "    clique_sizes.append(clique_size)\n",
    "    end_of_clique_time = time()\n",
    "    clique_creating_times.append(end_of_clique_time - end_of_read_time)\n",
    "\n",
    "    total_times.append(time() - start_time)\n",
    "\n",
    "display_dataframe = pd.DataFrame(\n",
    "    {\n",
    "        \"file\": files,\n",
    "        \"method\": methods,\n",
    "        \"clique size\": clique_sizes,\n",
    "        \"instance time\": instance_reading_times,\n",
    "        \"clique time\": clique_creating_times,\n",
    "        \"total time\": total_times,\n",
    "    }\n",
    ")\n",
    "print(display_dataframe)"
   ]
  }
 ],
 "metadata": {
  "kernelspec": {
   "display_name": "Python 3.10.5 ('projet_MH': venv)",
   "language": "python",
   "name": "python3"
  },
  "language_info": {
   "codemirror_mode": {
    "name": "ipython",
    "version": 3
   },
   "file_extension": ".py",
   "mimetype": "text/x-python",
   "name": "python",
   "nbconvert_exporter": "python",
   "pygments_lexer": "ipython3",
   "version": "3.10.5"
  },
  "orig_nbformat": 4,
  "vscode": {
   "interpreter": {
    "hash": "183896e14abb0fccbaad6d82789751f07dc7da7d1b50b324bf0fc429a34b0bfd"
   }
  }
 },
 "nbformat": 4,
 "nbformat_minor": 2
}

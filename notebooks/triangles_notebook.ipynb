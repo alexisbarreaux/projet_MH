{
 "cells": [
  {
   "cell_type": "code",
   "execution_count": 10,
   "metadata": {},
   "outputs": [],
   "source": [
    "# imports\n",
    "from pathlib import Path\n",
    "from time import time\n",
    "\n",
    "import numpy as np\n",
    "import pandas as pd\n",
    "\n",
    "from heuristics.triangles import node_iterator\n",
    "\n",
    "from utils import (read_single_problem_from_path_as_adjacency,\n",
    " read_single_problem_from_path_as_sparse, \n",
    " read_single_problem_from_path_as_sparse_from_adjacency,\n",
    " order_nodes_in_descending_order)\n",
    "from constants import BASE_INSTANCES_FILES\n",
    "from constants import OTHER_INSTANCES_FILES\n",
    "\n",
    "# Constants\n",
    "ROOT_DIR = Path.cwd().parent\n",
    "# Instances pathes\n",
    "INSTANCES_DIR = ROOT_DIR / \"instances\"\n",
    "BASE_INSTANCES_DIR = INSTANCES_DIR / \"project_instances\"\n",
    "OTHER_INSTANCES_DIR = INSTANCES_DIR / \"other_instances\""
   ]
  },
  {
   "cell_type": "code",
   "execution_count": 11,
   "metadata": {},
   "outputs": [
    {
     "name": "stdout",
     "output_type": "stream",
     "text": [
      "                 file         method  vertex in triangle  instance time  \\\n",
      "0      brock800_4.txt  node_iterator                 800       0.384419   \n",
      "1         C2000.5.txt  node_iterator                1998       1.788704   \n",
      "2          C500.9.txt  node_iterator                 499       0.201604   \n",
      "3  gen400_p0.9_75.txt  node_iterator                 398       0.136067   \n",
      "4     p_hat1500-3.txt  node_iterator                1498       1.887390   \n",
      "5      p_hat700-1.txt  node_iterator                 666       0.113008   \n",
      "\n",
      "   triangles time  total time  \n",
      "0        0.042364    0.426783  \n",
      "1        0.161988    1.950692  \n",
      "2        0.031421    0.233025  \n",
      "3        0.020930    0.156996  \n",
      "4        0.264767    2.152157  \n",
      "5        0.009905    0.122914  \n"
     ]
    }
   ],
   "source": [
    "files = []\n",
    "instance_reading_times = []\n",
    "triangles_finding_times = []\n",
    "total_times = []\n",
    "vertex_in_triangle = []\n",
    "methods = []\n",
    "\n",
    "\n",
    "for file in OTHER_INSTANCES_FILES:\n",
    "    methods.append(node_iterator.__name__)\n",
    "    files.append(file)\n",
    "\n",
    "    # File loading\n",
    "    start_time = time()\n",
    "    _,_,graph, _ = read_single_problem_from_path_as_adjacency(\n",
    "        instance_path=OTHER_INSTANCES_DIR\n",
    "        / file\n",
    "    )\n",
    "    end_of_read_time = time()\n",
    "    instance_reading_times.append(end_of_read_time - start_time)\n",
    "\n",
    "    # Triangles finding\n",
    "    vertices = node_iterator(graph=graph)\n",
    "    vertex_in_triangle.append(int(sum(vertices)))\n",
    "    end_of_triangle_time = time()\n",
    "    triangles_finding_times.append(end_of_triangle_time - end_of_read_time)\n",
    "\n",
    "    total_times.append(time() - start_time)\n",
    "\n",
    "display_dataframe = pd.DataFrame(\n",
    "    {\n",
    "        \"file\": files,\n",
    "        \"method\": methods,\n",
    "        \"vertex in triangle\": vertex_in_triangle,\n",
    "        \"instance time\": instance_reading_times,\n",
    "        \"triangles time\": triangles_finding_times,\n",
    "        \"total time\": total_times,\n",
    "    }\n",
    ")\n",
    "print(display_dataframe)"
   ]
  }
 ],
 "metadata": {
  "kernelspec": {
   "display_name": "Python 3.10.5 ('projet_MH': venv)",
   "language": "python",
   "name": "python3"
  },
  "language_info": {
   "codemirror_mode": {
    "name": "ipython",
    "version": 3
   },
   "file_extension": ".py",
   "mimetype": "text/x-python",
   "name": "python",
   "nbconvert_exporter": "python",
   "pygments_lexer": "ipython3",
   "version": "3.10.5"
  },
  "orig_nbformat": 4,
  "vscode": {
   "interpreter": {
    "hash": "183896e14abb0fccbaad6d82789751f07dc7da7d1b50b324bf0fc429a34b0bfd"
   }
  }
 },
 "nbformat": 4,
 "nbformat_minor": 2
}

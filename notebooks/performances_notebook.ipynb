{
 "cells": [
  {
   "cell_type": "code",
   "execution_count": 1,
   "metadata": {},
   "outputs": [],
   "source": [
    "# imports\n",
    "from pathlib import Path\n",
    "from time import time\n",
    "\n",
    "import numpy as np\n",
    "import pandas as pd\n",
    "import matplotlib.pyplot as plt\n",
    "\n",
    "\n",
    "from utils import (\n",
    "    read_single_problem_from_path_as_adjacency,\n",
    "    read_single_problem_from_path_as_sparse,\n",
    "    read_single_problem_from_path_as_sparse_from_adjacency,\n",
    "    order_nodes_in_descending_order,\n",
    "    check_validity_for_adjacency,\n",
    "    transform_node_clique_to_zero_one,\n",
    "    transform_zero_one_clique_to_nodes\n",
    ")\n",
    "from constants import BASE_INSTANCES_FILES, OTHER_INSTANCES_FILES, OTHER_INSTANCES_BEST_KNOWN, BASE_INSTANCES_BEST_KNOWN\n",
    "from heuristics import (\n",
    "    HeuristicRunner,\n",
    "    descending_degree_glutonous_heuristic,\n",
    "    dynamic_descending_degree_glutonous_heuristic,\n",
    "    descending_degree_random_heuristic,\n",
    "    multiple_descending_degree_random_heuristic\n",
    ")\n",
    "\n",
    "# Constants\n",
    "ROOT_DIR = Path.cwd().parent\n",
    "# Instances pathes\n",
    "INSTANCES_DIR = ROOT_DIR / \"instances\"\n",
    "BASE_INSTANCES_DIR = INSTANCES_DIR / \"project_instances\"\n",
    "OTHER_INSTANCES_DIR = INSTANCES_DIR / \"other_instances\"\n"
   ]
  },
  {
   "cell_type": "code",
   "execution_count": 2,
   "metadata": {},
   "outputs": [
    {
     "name": "stdout",
     "output_type": "stream",
     "text": [
      "Mean 0.8596100306510925\n"
     ]
    }
   ],
   "source": [
    "_, _, graph, degrees = read_single_problem_from_path_as_adjacency(\n",
    "    instance_path=OTHER_INSTANCES_DIR / \"C2000.5.txt\"\n",
    ")\n",
    "start = time()\n",
    "iterations = 100\n",
    "for _ in range(iterations):\n",
    "    clique = descending_degree_glutonous_heuristic(graph=graph, degrees=degrees)\n",
    "print(\"Mean\", (time() - start) / iterations)\n",
    "\n",
    "# Mean with adjacency comparison: Mean 0.024424775600433348\n",
    "# Mean with bit sum is less efficient : Mean 0.03597150468826294\n",
    "# Mean with np.take and sum is better: Mean 0.006640812635421753\n",
    "\n",
    "# Same on biggest graph for nodes : \"C2000.5.txt\"\n",
    "# Mean with adjacency comparison: Mean 0.05538655281066895\n",
    "# Mean with np.take and sum is better: Mean 0.017236299753189088\n",
    "# Mean with naive loove even with possibly getting out faster : Mean 0.8596100306510925\n",
    "\n",
    "# the factor 4 difference seems to stay true"
   ]
  }
 ],
 "metadata": {
  "kernelspec": {
   "display_name": "Python 3.10.7 ('projet_MH': venv)",
   "language": "python",
   "name": "python3"
  },
  "language_info": {
   "codemirror_mode": {
    "name": "ipython",
    "version": 3
   },
   "file_extension": ".py",
   "mimetype": "text/x-python",
   "name": "python",
   "nbconvert_exporter": "python",
   "pygments_lexer": "ipython3",
   "version": "3.10.7"
  },
  "orig_nbformat": 4,
  "vscode": {
   "interpreter": {
    "hash": "014c32241fd24097c2ed30b986768831995353224364fca8d9b563f6fce9ba3b"
   }
  }
 },
 "nbformat": 4,
 "nbformat_minor": 2
}

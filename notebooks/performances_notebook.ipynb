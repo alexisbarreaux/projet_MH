{
 "cells": [
  {
   "cell_type": "code",
   "execution_count": 1,
   "metadata": {},
   "outputs": [],
   "source": [
    "# imports\n",
    "from pathlib import Path\n",
    "from time import time\n",
    "\n",
    "import numpy as np\n",
    "import pandas as pd\n",
    "import matplotlib.pyplot as plt\n",
    "\n",
    "\n",
    "from utils import (\n",
    "    read_single_problem_from_path_as_adjacency,\n",
    "    read_single_problem_from_path_as_sparse,\n",
    "    read_single_problem_from_path_as_sparse_from_adjacency,\n",
    "    order_nodes_in_descending_order,\n",
    "    check_validity_for_adjacency,\n",
    "    transform_node_clique_to_zero_one,\n",
    "    transform_zero_one_clique_to_nodes\n",
    ")\n",
    "from constants import BASE_INSTANCES_FILES, OTHER_INSTANCES_FILES, OTHER_INSTANCES_BEST_KNOWN, BASE_INSTANCES_BEST_KNOWN\n",
    "from heuristics import (\n",
    "    HeuristicRunner,\n",
    "    descending_degree_glutonous_heuristic,\n",
    "    dynamic_descending_degree_glutonous_heuristic,\n",
    "    descending_degree_random_heuristic,\n",
    "    multiple_descending_degree_random_heuristic,\n",
    "    descending_degree_glutonous_heuristic_from_clique\n",
    ")\n",
    "from meta_heuristics import base_vns_meta_heuristic\n",
    "\n",
    "# Constants\n",
    "ROOT_DIR = Path.cwd().parent\n",
    "# Instances pathes\n",
    "INSTANCES_DIR = ROOT_DIR / \"instances\"\n",
    "BASE_INSTANCES_DIR = INSTANCES_DIR / \"project_instances\"\n",
    "OTHER_INSTANCES_DIR = INSTANCES_DIR / \"other_instances\"\n"
   ]
  },
  {
   "cell_type": "code",
   "execution_count": 2,
   "metadata": {},
   "outputs": [
    {
     "name": "stdout",
     "output_type": "stream",
     "text": [
      "Mean 0.015997228622436525\n"
     ]
    }
   ],
   "source": [
    "_, _, graph, degrees = read_single_problem_from_path_as_adjacency(\n",
    "    instance_path=OTHER_INSTANCES_DIR / \"C2000.5.txt\"\n",
    ")\n",
    "start = time()\n",
    "iterations = 100\n",
    "for _ in range(iterations):\n",
    "    clique = descending_degree_glutonous_heuristic(graph=graph, degrees=degrees)\n",
    "print(\"Mean\", (time() - start) / iterations)\n",
    "\n",
    "# Mean with adjacency comparison: Mean 0.024424775600433348\n",
    "# Mean with bit sum is less efficient : Mean 0.03597150468826294\n",
    "# Mean with np.take and sum is better: Mean 0.006640812635421753\n",
    "\n",
    "# Same on biggest graph for nodes : \"C2000.5.txt\"\n",
    "# Mean with adjacency comparison: Mean 0.05538655281066895\n",
    "# Mean with np.take and sum is better: Mean 0.017236299753189088\n",
    "# Mean with naive loove even with possibly getting out faster : Mean 0.8596100306510925\n",
    "\n",
    "# the factor 4 difference seems to stay true"
   ]
  },
  {
   "cell_type": "code",
   "execution_count": 2,
   "metadata": {},
   "outputs": [
    {
     "name": "stdout",
     "output_type": "stream",
     "text": [
      "Mean 0.04977327823638916\n"
     ]
    }
   ],
   "source": [
    "_, _, graph, degrees = read_single_problem_from_path_as_adjacency(\n",
    "    instance_path=OTHER_INSTANCES_DIR / \"C2000.5.txt\"\n",
    ")\n",
    "start = time()\n",
    "iterations = 100\n",
    "for _ in range(iterations):\n",
    "    clique = dynamic_descending_degree_glutonous_heuristic(graph=graph, degrees=degrees)\n",
    "print(\"Mean\", (time() - start) / iterations)\n",
    "\n",
    "# Base version : Mean 0.09371057033538818\n",
    "# With np.take : Mean 0.04810497045516968"
   ]
  },
  {
   "cell_type": "code",
   "execution_count": 2,
   "metadata": {},
   "outputs": [
    {
     "name": "stdout",
     "output_type": "stream",
     "text": [
      "Mean 1.973360300064087e-05\n"
     ]
    }
   ],
   "source": [
    "from utils import i_th_nodes_removal_neighbour\n",
    "import numpy as np\n",
    "from time import time \n",
    "\n",
    "array = np.random.binomial(n=1, p=0.5, size=[100])\n",
    "\n",
    "start = time()\n",
    "iterations = 100000\n",
    "for _ in range(iterations):\n",
    "    i_th_nodes_removal_neighbour(array, 10)\n",
    "print(\"Mean\", (time() - start) / iterations)\n",
    "\n",
    "#  Base Mean 1.973360300064087e-05"
   ]
  },
  {
   "cell_type": "code",
   "execution_count": 6,
   "metadata": {},
   "outputs": [
    {
     "name": "stdout",
     "output_type": "stream",
     "text": [
      "12\n",
      "13\n",
      "13\n",
      "13\n",
      "12\n",
      "13\n",
      "13\n",
      "13\n",
      "12\n",
      "12\n",
      "Mean iterations 21.5\n"
     ]
    }
   ],
   "source": [
    "_, _, graph, degrees = read_single_problem_from_path_as_adjacency(\n",
    "    instance_path=OTHER_INSTANCES_DIR / \"C2000.5.txt\"\n",
    ")\n",
    "starting_clique = descending_degree_glutonous_heuristic(graph=graph, degrees=degrees)\n",
    "iterations = 10\n",
    "number_of_iterations_list =[]\n",
    "for _ in range(iterations):\n",
    "    clique , _,_,number_of_iterations= base_vns_meta_heuristic(starting_clique=starting_clique, graph=graph, degrees=degrees, max_time=5)\n",
    "    print(np.sum(clique))\n",
    "    number_of_iterations_list.append(number_of_iterations)\n",
    "\n",
    "print(\"Mean iterations\", np.mean(number_of_iterations_list))\n",
    "# Base : Mean iterations 23.5 or 21.5\n"
   ]
  }
 ],
 "metadata": {
  "kernelspec": {
   "display_name": "Python 3.10.7 ('projet_MH': venv)",
   "language": "python",
   "name": "python3"
  },
  "language_info": {
   "codemirror_mode": {
    "name": "ipython",
    "version": 3
   },
   "file_extension": ".py",
   "mimetype": "text/x-python",
   "name": "python",
   "nbconvert_exporter": "python",
   "pygments_lexer": "ipython3",
   "version": "3.10.7"
  },
  "orig_nbformat": 4,
  "vscode": {
   "interpreter": {
    "hash": "014c32241fd24097c2ed30b986768831995353224364fca8d9b563f6fce9ba3b"
   }
  }
 },
 "nbformat": 4,
 "nbformat_minor": 2
}

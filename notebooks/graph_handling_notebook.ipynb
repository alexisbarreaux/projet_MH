{
 "cells": [
  {
   "cell_type": "code",
   "execution_count": 1,
   "metadata": {},
   "outputs": [],
   "source": [
    "# imports\n",
    "from pathlib import Path\n",
    "from time import time\n",
    "\n",
    "import numpy as np\n",
    "\n",
    "from utils import (read_single_problem_from_path_as_adjacency,\n",
    " read_single_problem_from_path_as_sparse, \n",
    " read_single_problem_from_path_as_sparse_from_adjacency,\n",
    " order_nodes_in_descending_order)\n",
    "from constants import BASE_INSTANCES_FILES\n",
    "from utils import get_degrees_in_adjacency, delete_node_from_graph\n",
    "\n",
    "# Constants\n",
    "ROOT_DIR = Path.cwd().parent\n",
    "# Instances pathes\n",
    "INSTANCES_DIR = ROOT_DIR / \"instances\"\n",
    "BASE_INSTANCES_DIR = INSTANCES_DIR / \"project_instances\"\n",
    "OTHER_INSTANCES_DR = INSTANCES_DIR / \"other_instances\""
   ]
  },
  {
   "cell_type": "code",
   "execution_count": 2,
   "metadata": {},
   "outputs": [
    {
     "name": "stdout",
     "output_type": "stream",
     "text": [
      "True\n"
     ]
    }
   ],
   "source": [
    "_,_,graph,degrees = read_single_problem_from_path_as_adjacency(\n",
    "        instance_path=BASE_INSTANCES_DIR / \"brock200_2.col\"\n",
    "    )\n",
    "print(np.all(degrees ==get_degrees_in_adjacency(graph)))"
   ]
  },
  {
   "cell_type": "code",
   "execution_count": 3,
   "metadata": {},
   "outputs": [
    {
     "name": "stdout",
     "output_type": "stream",
     "text": [
      "[[0 1 0 1 1 1 0 0 1 0]\n",
      " [1 0 0 0 1 0 1 1 1 1]\n",
      " [0 0 0 0 0 0 0 0 0 0]\n",
      " [1 0 0 0 0 0 0 0 1 0]\n",
      " [1 1 0 0 0 1 1 1 0 1]\n",
      " [1 0 0 0 1 0 1 0 1 0]\n",
      " [0 1 0 0 1 1 0 1 1 1]\n",
      " [0 1 0 0 1 0 1 0 0 1]\n",
      " [1 1 0 1 0 1 1 0 0 0]\n",
      " [0 1 0 0 1 0 1 1 0 0]]\n"
     ]
    }
   ],
   "source": [
    "_,_,graph,degrees = read_single_problem_from_path_as_adjacency(\n",
    "        instance_path=BASE_INSTANCES_DIR / \"random-10.col\"\n",
    "    )\n",
    "delete_node_from_graph(graph=graph, node=2)\n",
    "print(graph)"
   ]
  }
 ],
 "metadata": {
  "kernelspec": {
   "display_name": "Python 3.10.2 ('projet_MH': venv)",
   "language": "python",
   "name": "python3"
  },
  "language_info": {
   "codemirror_mode": {
    "name": "ipython",
    "version": 3
   },
   "file_extension": ".py",
   "mimetype": "text/x-python",
   "name": "python",
   "nbconvert_exporter": "python",
   "pygments_lexer": "ipython3",
   "version": "3.10.2"
  },
  "orig_nbformat": 4,
  "vscode": {
   "interpreter": {
    "hash": "394d83e5b1ffce0d121f660ba29d6d2dfe8b3a88ed0a25224231f21a953d4a07"
   }
  }
 },
 "nbformat": 4,
 "nbformat_minor": 2
}

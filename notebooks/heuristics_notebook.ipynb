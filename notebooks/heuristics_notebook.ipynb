{
 "cells": [
  {
   "cell_type": "code",
   "execution_count": 8,
   "metadata": {},
   "outputs": [],
   "source": [
    "# imports\n",
    "from pathlib import Path\n",
    "from time import time\n",
    "\n",
    "import numpy as np\n",
    "import pandas as pd\n",
    "\n",
    "from utils import (read_single_problem_from_path_as_adjacency,\n",
    " read_single_problem_from_path_as_sparse, \n",
    " read_single_problem_from_path_as_sparse_from_adjacency,\n",
    " order_nodes_in_descending_order,\n",
    " check_validity_for_adjacency)\n",
    "from constants import BASE_INSTANCES_FILES\n",
    "from heuristics import descending_degree_glutonous_heuristic\n",
    "\n",
    "# Constants\n",
    "ROOT_DIR = Path.cwd().parent\n",
    "# Instances pathes\n",
    "INSTANCES_DIR = ROOT_DIR / \"instances\"\n",
    "BASE_INSTANCES_DIR = INSTANCES_DIR / \"project_instances\"\n",
    "OTHER_INSTANCES_DR = INSTANCES_DIR / \"other_instances\""
   ]
  },
  {
   "cell_type": "code",
   "execution_count": 9,
   "metadata": {},
   "outputs": [
    {
     "name": "stdout",
     "output_type": "stream",
     "text": [
      "[[0 1 0 1 1 1 0 0 1 0]\n",
      " [1 0 1 0 1 0 1 1 1 1]\n",
      " [0 1 0 1 0 1 0 0 0 1]\n",
      " [1 0 1 0 0 0 0 0 1 0]\n",
      " [1 1 0 0 0 1 1 1 0 1]\n",
      " [1 0 1 0 1 0 1 0 1 0]\n",
      " [0 1 0 0 1 1 0 1 1 1]\n",
      " [0 1 0 0 1 0 1 0 0 1]\n",
      " [1 1 0 1 0 1 1 0 0 0]\n",
      " [0 1 1 0 1 0 1 1 0 0]]\n",
      "[4, 6, 5]\n",
      "Is the clique valid ?  True\n"
     ]
    }
   ],
   "source": [
    "_,_, graph, degrees = read_single_problem_from_path_as_adjacency(\n",
    "        instance_path=BASE_INSTANCES_DIR / \"random-10.col\"\n",
    "    )\n",
    "print(graph)\n",
    "clique =descending_degree_glutonous_heuristic(graph=graph, degrees=degrees)\n",
    "print(clique)\n",
    "print(\"Is the clique valid ? \", check_validity_for_adjacency(graph, clique))"
   ]
  },
  {
   "cell_type": "code",
   "execution_count": 13,
   "metadata": {},
   "outputs": [],
   "source": [
    "# Build clique size and times of execution for most basic heuristic\n",
    "files = []\n",
    "instance_reading_times = []\n",
    "clique_creating_times = []\n",
    "total_times = []\n",
    "clique_sizes = []\n",
    "\n",
    "for file in BASE_INSTANCES_FILES:\n",
    "    files.append(file)\n",
    "\n",
    "    start_time = time()\n",
    "    _,_, graph, degrees = read_single_problem_from_path_as_adjacency(\n",
    "            instance_path=BASE_INSTANCES_DIR / file\n",
    "        )\n",
    "    end_of_read_time = time()\n",
    "    instance_reading_times.append(end_of_read_time - start_time)\n",
    "\n",
    "    clique =descending_degree_glutonous_heuristic(graph=graph, degrees=degrees)\n",
    "    clique_sizes.append(len(clique))\n",
    "    end_of_clique_time = time()\n",
    "    clique_creating_times.append(end_of_clique_time -end_of_read_time)\n",
    "\n",
    "    assert(check_validity_for_adjacency(graph, clique))\n",
    "    total_times.append(time() - start_time)\n"
   ]
  },
  {
   "cell_type": "code",
   "execution_count": 15,
   "metadata": {},
   "outputs": [
    {
     "name": "stdout",
     "output_type": "stream",
     "text": [
      "             file  clique size  instance time  clique time  total time\n",
      "0  brock200_2.col            7       0.064044     0.003955    0.069035\n",
      "1   dsjc125.1.col            3       0.004008     0.000986    0.004995\n",
      "2   random-10.col            3       0.000969     0.000000    0.000969\n",
      "3  random-100.col            7       0.013000     0.002032    0.015032\n",
      "4   random-40.col            6       0.002012     0.000984    0.002996\n",
      "5   random-70.col            6       0.006016     0.001993    0.008009\n"
     ]
    }
   ],
   "source": [
    "# Display for most basic heuristic\n",
    "\n",
    "display_dataframe = pd.DataFrame({\n",
    "    \"file\":files,\n",
    "    \"clique size\": clique_sizes, \n",
    "    \"instance time\": instance_reading_times,\n",
    "    \"clique time\":clique_creating_times,\n",
    "    \"total time\" : total_times,\n",
    "})\n",
    "print(display_dataframe)"
   ]
  }
 ],
 "metadata": {
  "kernelspec": {
   "display_name": "Python 3.10.2 ('projet_MH': venv)",
   "language": "python",
   "name": "python3"
  },
  "language_info": {
   "codemirror_mode": {
    "name": "ipython",
    "version": 3
   },
   "file_extension": ".py",
   "mimetype": "text/x-python",
   "name": "python",
   "nbconvert_exporter": "python",
   "pygments_lexer": "ipython3",
   "version": "3.10.2"
  },
  "orig_nbformat": 4,
  "vscode": {
   "interpreter": {
    "hash": "394d83e5b1ffce0d121f660ba29d6d2dfe8b3a88ed0a25224231f21a953d4a07"
   }
  }
 },
 "nbformat": 4,
 "nbformat_minor": 2
}

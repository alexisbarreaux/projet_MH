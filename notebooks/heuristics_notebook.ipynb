{
   "cells": [
      {
         "cell_type": "code",
         "execution_count": 1,
         "metadata": {},
         "outputs": [],
         "source": [
            "# imports\n",
            "from pathlib import Path\n",
            "from time import time\n",
            "\n",
            "import numpy as np\n",
            "import pandas as pd\n",
            "import matplotlib.pyplot as plt\n",
            "\n",
            "\n",
            "from utils import (\n",
            "    read_single_problem_from_path_as_adjacency,\n",
            "    read_single_problem_from_path_as_sparse,\n",
            "    read_single_problem_from_path_as_sparse_from_adjacency,\n",
            "    order_nodes_in_descending_order,\n",
            "    check_validity_for_adjacency,\n",
            "    transform_node_clique_to_zero_one,\n",
            "    transform_zero_one_clique_to_nodes\n",
            ")\n",
            "from constants import BASE_INSTANCES_FILES, OTHER_INSTANCES_FILES, OTHER_INSTANCES_BEST_KNOWN, BASE_INSTANCES_BEST_KNOWN\n",
            "from heuristics import (\n",
            "    HeuristicRunner,\n",
            "    descending_degree_glutonous_heuristic,\n",
            "    dynamic_descending_degree_glutonous_heuristic,\n",
            "    descending_degree_random_heuristic,\n",
            "    multiple_descending_degree_random_heuristic\n",
            ")\n",
            "\n",
            "# Constants\n",
            "ROOT_DIR = Path.cwd().parent\n",
            "# Instances pathes\n",
            "INSTANCES_DIR = ROOT_DIR / \"instances\"\n",
            "BASE_INSTANCES_DIR = INSTANCES_DIR / \"project_instances\"\n",
            "OTHER_INSTANCES_DIR = INSTANCES_DIR / \"other_instances\"\n"
         ]
      },
      {
         "cell_type": "code",
         "execution_count": 2,
         "metadata": {},
         "outputs": [
            {
               "name": "stdout",
               "output_type": "stream",
               "text": [
                  "[[0 1 0 1 1 1 0 0 1 0]\n",
                  " [1 0 1 0 1 0 1 1 1 1]\n",
                  " [0 1 0 1 0 1 0 0 0 1]\n",
                  " [1 0 1 0 0 0 0 0 1 0]\n",
                  " [1 1 0 0 0 1 1 1 0 1]\n",
                  " [1 0 1 0 1 0 1 0 1 0]\n",
                  " [0 1 0 0 1 1 0 1 1 1]\n",
                  " [0 1 0 0 1 0 1 0 0 1]\n",
                  " [1 1 0 1 0 1 1 0 0 0]\n",
                  " [0 1 1 0 1 0 1 1 0 0]]\n",
                  "[0 1 0 0 1 0 1 1 0 1]\n",
                  "Is the clique valid ?  True\n"
               ]
            }
         ],
         "source": [
            "_, _, graph, degrees = read_single_problem_from_path_as_adjacency(\n",
            "    instance_path=BASE_INSTANCES_DIR / \"random-10.col\"\n",
            ")\n",
            "print(graph)\n",
            "clique = descending_degree_glutonous_heuristic(graph=graph, degrees=degrees)\n",
            "print(clique)\n",
            "print(\"Is the clique valid ? \", check_validity_for_adjacency(graph, clique))\n"
         ]
      },
      {
         "cell_type": "code",
         "execution_count": 3,
         "metadata": {},
         "outputs": [
            {
               "name": "stdout",
               "output_type": "stream",
               "text": [
                  "[0 1 0 0 1 0 1 1 0 1]\n",
                  "[1, 4, 6, 7, 9]\n",
                  "[0 1 0 0 1 0 1 1 0 1]\n"
               ]
            }
         ],
         "source": [
            "# Check that clique representation utils work\n",
            "number_of_nodes, _, graph, degrees = read_single_problem_from_path_as_adjacency(\n",
            "    instance_path=BASE_INSTANCES_DIR / \"random-10.col\"\n",
            ")\n",
            "clique = descending_degree_glutonous_heuristic(graph=graph, degrees=degrees)\n",
            "print(clique)\n",
            "print(transform_zero_one_clique_to_nodes(clique))\n",
            "print(transform_node_clique_to_zero_one(number_of_nodes, transform_zero_one_clique_to_nodes(clique)))"
         ]
      },
      {
         "cell_type": "code",
         "execution_count": 2,
         "metadata": {},
         "outputs": [
            {
               "name": "stdout",
               "output_type": "stream",
               "text": [
                  "          instance     method  clique  best  total(s)\n",
                  "0   brock200_2.col  desc_base       7    12  0.031023\n",
                  "1   brock200_2.col   desc_dyn       7    12  0.045048\n",
                  "2   brock200_2.col   desc_ran       8    12  0.063035\n",
                  "3   brock200_2.col   mult_ran       7    12  0.074534\n",
                  "4    dsjc125.1.col  desc_base       4     4  0.007683\n",
                  "5    dsjc125.1.col   desc_dyn       4     4  0.003998\n",
                  "6    dsjc125.1.col   desc_ran       4     4  0.004040\n",
                  "7    dsjc125.1.col   mult_ran       4     4  0.024357\n",
                  "8    random-10.col  desc_base       5     5  0.001002\n",
                  "9    random-10.col   desc_dyn       5     5  0.001043\n",
                  "10   random-10.col   desc_ran       3     5  0.001332\n",
                  "11   random-10.col   mult_ran       3     5  0.001978\n",
                  "12  random-100.col  desc_base       8     9  0.008779\n",
                  "13  random-100.col   desc_dyn       8     9  0.009966\n",
                  "14  random-100.col   desc_ran       7     9  0.012613\n",
                  "15  random-100.col   mult_ran       7     9  0.028718\n",
                  "16   random-40.col  desc_base       7     7  0.001999\n",
                  "17   random-40.col   desc_dyn       6     7  0.001013\n",
                  "18   random-40.col   desc_ran       6     7  0.002253\n",
                  "19   random-40.col   mult_ran       6     7  0.008945\n",
                  "20   random-70.col  desc_base       7     8  0.005421\n",
                  "21   random-70.col   desc_dyn       7     8  0.003999\n",
                  "22   random-70.col   desc_ran       7     8  0.004003\n",
                  "23   random-70.col   mult_ran       7     8  0.016339\n"
               ]
            }
         ],
         "source": [
            "# Test on project instances\n",
            "runner = HeuristicRunner(\n",
            "    instances_dir=BASE_INSTANCES_DIR,\n",
            "    instances=BASE_INSTANCES_FILES,\n",
            "    methods=[\n",
            "        (descending_degree_glutonous_heuristic, \"desc_base\"),\n",
            "        (dynamic_descending_degree_glutonous_heuristic, \"desc_dyn\"),\n",
            "        (descending_degree_random_heuristic, \"desc_ran\"),\n",
            "        (multiple_descending_degree_random_heuristic, \"mult_ran\")\n",
            "    ],\n",
            "    known_bests=BASE_INSTANCES_BEST_KNOWN,\n",
            "    display_time_details=False\n",
            ")\n",
            "runner.run_all_methods_on_all_instances()\n",
            "runner.display_results()\n",
            "runner.display_dataframe.to_csv(\"heuristics_results_base_instances.csv\", sep=\";\")"
         ]
      },
      {
         "cell_type": "code",
         "execution_count": 5,
         "metadata": {},
         "outputs": [
            {
               "name": "stdout",
               "output_type": "stream",
               "text": [
                  "              instance     method clique best  total(s)\n",
                  "0       brock800_4.txt  desc_base     14   26  0.605979\n",
                  "1       brock800_4.txt   desc_dyn     14   26  0.736306\n",
                  "2       brock800_4.txt   desc_ran     15   26  0.609477\n",
                  "3       brock800_4.txt   mult_ran     14   26  0.859375\n",
                  "4                  ///        ///    ///  ///       ///\n",
                  "5          C2000.5.txt  desc_base     10   16  2.756715\n",
                  "6          C2000.5.txt   desc_dyn     10   16  2.762853\n",
                  "7          C2000.5.txt   desc_ran     11   16  2.741397\n",
                  "8          C2000.5.txt   mult_ran     11   16  3.207902\n",
                  "9                  ///        ///    ///  ///       ///\n",
                  "10          C500.9.txt  desc_base     43   57  0.334108\n",
                  "11          C500.9.txt   desc_dyn     42   57  0.343571\n",
                  "12          C500.9.txt   desc_ran     42   57  0.330331\n",
                  "13          C500.9.txt   mult_ran     42   57  0.670631\n",
                  "14                 ///        ///    ///  ///       ///\n",
                  "15  gen400_p0.9_75.txt  desc_base     47   75  0.309144\n",
                  "16  gen400_p0.9_75.txt   desc_dyn     47   75  0.233914\n",
                  "17  gen400_p0.9_75.txt   desc_ran     47   75   0.21906\n",
                  "18  gen400_p0.9_75.txt   mult_ran     44   75  0.570969\n",
                  "19                 ///        ///    ///  ///       ///\n",
                  "20     p_hat1500-3.txt  desc_base     75   94  2.466713\n",
                  "21     p_hat1500-3.txt   desc_dyn     75   94  2.723744\n",
                  "22     p_hat1500-3.txt   desc_ran     75   94  2.524335\n",
                  "23     p_hat1500-3.txt   mult_ran     77   94  4.363482\n",
                  "24                 ///        ///    ///  ///       ///\n",
                  "25      p_hat700-1.txt  desc_base      7   11  0.177142\n",
                  "26      p_hat700-1.txt   desc_dyn      7   11   0.18204\n",
                  "27      p_hat700-1.txt   desc_ran      6   11  0.174505\n",
                  "28      p_hat700-1.txt   mult_ran      7   11  0.308178\n",
                  "29                 ///        ///    ///  ///       ///\n"
               ]
            }
         ],
         "source": [
            "# Test on other bigger instances.\n",
            "runner = HeuristicRunner(\n",
            "    instances_dir=OTHER_INSTANCES_DIR,\n",
            "    instances=OTHER_INSTANCES_FILES,\n",
            "    methods=[\n",
            "        (descending_degree_glutonous_heuristic, \"desc_base\"),\n",
            "        (dynamic_descending_degree_glutonous_heuristic, \"desc_dyn\"),\n",
            "        (descending_degree_random_heuristic, \"desc_ran\"),\n",
            "        (multiple_descending_degree_random_heuristic, \"mult_ran\")\n",
            "    ],\n",
            "    known_bests=OTHER_INSTANCES_BEST_KNOWN,\n",
            "    display_time_details=False\n",
            ")\n",
            "runner.run_all_methods_on_all_instances()\n",
            "runner.display_results()"
         ]
      },
      {
         "cell_type": "code",
         "execution_count": 6,
         "metadata": {},
         "outputs": [
            {
               "name": "stdout",
               "output_type": "stream",
               "text": [
                  "          instance  method clique best  total(s)\n",
                  "0   brock200_2.col   ran_2      7   //  0.034874\n",
                  "1   brock200_2.col   ran_3      7   //  0.031943\n",
                  "2   brock200_2.col   ran_4      8   //   0.03089\n",
                  "3   brock200_2.col   ran_5      8   //  0.031914\n",
                  "4   brock200_2.col   ran_6      7   //   0.03089\n",
                  "..             ...     ...    ...  ...       ...\n",
                  "85   random-70.col  ran_12      6   //  0.006013\n",
                  "86   random-70.col  ran_13      5   //  0.005983\n",
                  "87   random-70.col  ran_14      8   //  0.005956\n",
                  "88   random-70.col  ran_15      6   //  0.004986\n",
                  "89             ///     ///    ///  ///       ///\n",
                  "\n",
                  "[90 rows x 5 columns]\n"
               ]
            }
         ],
         "source": [
            "# Test different size of choices for the nodes for random heuristic\n",
            "methods = [\n",
            "    (lambda *args, **kwargs: descending_degree_random_heuristic(*args, **kwargs, size_of_choice=2), f\"ran_{2}\"),\n",
            "    (lambda *args, **kwargs: descending_degree_random_heuristic(*args, **kwargs, size_of_choice=3), f\"ran_{3}\"),\n",
            "    (lambda *args, **kwargs: descending_degree_random_heuristic(*args, **kwargs, size_of_choice=4), f\"ran_{4}\"),\n",
            "    (lambda *args, **kwargs: descending_degree_random_heuristic(*args, **kwargs, size_of_choice=5), f\"ran_{5}\"),\n",
            "    (lambda *args, **kwargs: descending_degree_random_heuristic(*args, **kwargs, size_of_choice=6), f\"ran_{6}\"),\n",
            "    (lambda *args, **kwargs: descending_degree_random_heuristic(*args, **kwargs, size_of_choice=7), f\"ran_{7}\"),\n",
            "    (lambda *args, **kwargs: descending_degree_random_heuristic(*args, **kwargs, size_of_choice=8), f\"ran_{8}\"),\n",
            "    (lambda *args, **kwargs: descending_degree_random_heuristic(*args, **kwargs, size_of_choice=9), f\"ran_{9}\"),\n",
            "    (lambda *args, **kwargs: descending_degree_random_heuristic(*args, **kwargs, size_of_choice=10), f\"ran_{10}\"),\n",
            "    (lambda *args, **kwargs: descending_degree_random_heuristic(*args, **kwargs, size_of_choice=11), f\"ran_{11}\"),\n",
            "    (lambda *args, **kwargs: descending_degree_random_heuristic(*args, **kwargs, size_of_choice=12), f\"ran_{12}\"),\n",
            "    (lambda *args, **kwargs: descending_degree_random_heuristic(*args, **kwargs, size_of_choice=13), f\"ran_{13}\"),\n",
            "    (lambda *args, **kwargs: descending_degree_random_heuristic(*args, **kwargs, size_of_choice=14), f\"ran_{14}\"),\n",
            "    (lambda *args, **kwargs: descending_degree_random_heuristic(*args, **kwargs, size_of_choice=15), f\"ran_{15}\"),\n",
            "]\n",
            "runner = HeuristicRunner(\n",
            "    instances_dir=BASE_INSTANCES_DIR,\n",
            "    instances=BASE_INSTANCES_FILES,\n",
            "    methods=methods,\n",
            "    known_bests={},\n",
            "    display_time_details=False\n",
            ")\n",
            "runner.run_all_methods_on_all_instances()\n",
            "runner.display_results()"
         ]
      },
      {
         "cell_type": "code",
         "execution_count": 15,
         "metadata": {},
         "outputs": [
            {
               "name": "stdout",
               "output_type": "stream",
               "text": [
                  "[  2   3   4   5   6   7   8   9  10  11  12  13  14  15  16  17  18  19\n",
                  "  20  21  22  23  24  25  26  27  28  29  30  31  32  33  34  35  36  37\n",
                  "  38  39  40  41  42  43  44  45  46  47  48  49  50  51  52  53  54  55\n",
                  "  56  57  58  59  60  61  62  63  64  65  66  67  68  69  70  71  72  73\n",
                  "  74  75  76  77  78  79  80  81  82  83  84  85  86  87  88  89  90  91\n",
                  "  92  93  94  95  96  97  98  99 100 101 102 103 104 105 106 107 108 109\n",
                  " 110 111 112 113 114 115 116 117 118 119 120 121 122 123 124 125 126 127\n",
                  " 128 129 130 131 132 133 134 135 136 137 138 139 140 141 142 143 144 145\n",
                  " 146 147 148 149 150 151 152 153 154 155 156 157 158 159 160 161 162 163\n",
                  " 164 165 166 167 168 169 170 171 172 173 174 175 176 177 178 179 180 181\n",
                  " 182 183 184 185 186 187 188 189 190 191 192 193 194 195 196 197 198 199]\n"
               ]
            }
         ],
         "source": [
            "# Testing size_of_choice parameter\n",
            "\"\"\"\n",
            "instance = \"gen400_p0.9_75.txt\"\n",
            "number_of_nodes, _, graph, degrees = read_single_problem_from_path_as_adjacency(\n",
            "    instance_path=OTHER_INSTANCES_DIR / instance\n",
            ")\n",
            "choices_sizes = np.arange(2,  number_of_nodes //2)\n",
            "best_cliques = np.zeros(len(choices_sizes))\n",
            "mean_cliques =np.zeros(len(choices_sizes))\n",
            "for i in range(len(choices_sizes)):\n",
            "    size_of_choice = choices_sizes[i]\n",
            "    clique_sizes = np.zeros(50)\n",
            "    for j in range(50):\n",
            "        clique = descending_degree_random_heuristic(graph=graph, degrees=degrees,size_of_choice=size_of_choice)\n",
            "        clique_sizes[j]= np.sum(clique)\n",
            "\n",
            "    best_cliques[i] = np.max(clique_sizes)\n",
            "    mean_cliques[i] = np.mean(clique_sizes)\n",
            "\"\"\""
         ]
      },
      {
         "cell_type": "code",
         "execution_count": 16,
         "metadata": {},
         "outputs": [
            {
               "data": {
                  "image/png": "[encoded data removed]",
                  "text/plain": [
                     "<Figure size 640x480 with 1 Axes>"
                  ]
               },
               "metadata": {},
               "output_type": "display_data"
            }
         ],
         "source": [
            "# Displaying random results for several sizes.\n",
            "\"\"\"\n",
            "plt.clf()\n",
            "\n",
            "plt.plot(choices_sizes, best_cliques, \"r+\", label=\"best\")\n",
            "plt.plot(choices_sizes, mean_cliques, \"b^\", label=\"mean\")\n",
            "plt.plot(choices_sizes, OTHER_INSTANCES_BEST_KNOWN[instance] * np.ones(len(mean_cliques)), \"g\", label=\"bound\")\n",
            "plt.legend(loc=\"lower right\")\n",
            "plt.show()\n",
            "\"\"\""
         ]
      }
   ],
   "metadata": {
      "kernelspec": {
         "display_name": "Python 3.10.2 ('projet_MH': venv)",
         "language": "python",
         "name": "python3"
      },
      "language_info": {
         "codemirror_mode": {
            "name": "ipython",
            "version": 3
         },
         "file_extension": ".py",
         "mimetype": "text/x-python",
         "name": "python",
         "nbconvert_exporter": "python",
         "pygments_lexer": "ipython3",
         "version": "3.10.2"
      },
      "orig_nbformat": 4,
      "vscode": {
         "interpreter": {
            "hash": "394d83e5b1ffce0d121f660ba29d6d2dfe8b3a88ed0a25224231f21a953d4a07"
         }
      }
   },
   "nbformat": 4,
   "nbformat_minor": 2
}

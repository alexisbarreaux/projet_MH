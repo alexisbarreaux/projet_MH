{
 "cells": [
  {
   "cell_type": "code",
   "execution_count": 1,
   "metadata": {},
   "outputs": [],
   "source": [
    "# imports\n",
    "from pathlib import Path\n",
    "from time import time\n",
    "\n",
    "import numpy as np\n",
    "import pandas as pd\n",
    "\n",
    "from utils import (\n",
    "    read_single_problem_from_path_as_adjacency,\n",
    "    read_single_problem_from_path_as_sparse,\n",
    "    read_single_problem_from_path_as_sparse_from_adjacency,\n",
    "    order_nodes_in_descending_order,\n",
    "    check_validity_for_adjacency,\n",
    ")\n",
    "from constants import BASE_INSTANCES_FILES\n",
    "from heuristics import (\n",
    "    descending_degree_glutonous_heuristic,\n",
    "    dynamic_descending_degree_glutonous_heuristic,\n",
    "    descending_degree_random_heuristic,\n",
    "    multiple_descending_degree_random_heuristic\n",
    ")\n",
    "\n",
    "# Constants\n",
    "ROOT_DIR = Path.cwd().parent\n",
    "# Instances pathes\n",
    "INSTANCES_DIR = ROOT_DIR / \"instances\"\n",
    "BASE_INSTANCES_DIR = INSTANCES_DIR / \"project_instances\"\n",
    "OTHER_INSTANCES_DR = INSTANCES_DIR / \"other_instances\"\n"
   ]
  },
  {
   "cell_type": "code",
   "execution_count": 2,
   "metadata": {},
   "outputs": [
    {
     "name": "stdout",
     "output_type": "stream",
     "text": [
      "[[0 1 0 1 1 1 0 0 1 0]\n",
      " [1 0 1 0 1 0 1 1 1 1]\n",
      " [0 1 0 1 0 1 0 0 0 1]\n",
      " [1 0 1 0 0 0 0 0 1 0]\n",
      " [1 1 0 0 0 1 1 1 0 1]\n",
      " [1 0 1 0 1 0 1 0 1 0]\n",
      " [0 1 0 0 1 1 0 1 1 1]\n",
      " [0 1 0 0 1 0 1 0 0 1]\n",
      " [1 1 0 1 0 1 1 0 0 0]\n",
      " [0 1 1 0 1 0 1 1 0 0]]\n",
      "[1, 4, 6, 9, 7]\n",
      "Is the clique valid ?  True\n"
     ]
    }
   ],
   "source": [
    "_, _, graph, degrees = read_single_problem_from_path_as_adjacency(\n",
    "    instance_path=BASE_INSTANCES_DIR / \"random-10.col\"\n",
    ")\n",
    "print(graph)\n",
    "clique = descending_degree_glutonous_heuristic(graph=graph, degrees=degrees)\n",
    "print(clique)\n",
    "print(\"Is the clique valid ? \", check_validity_for_adjacency(graph, clique))\n"
   ]
  },
  {
   "cell_type": "code",
   "execution_count": 3,
   "metadata": {},
   "outputs": [],
   "source": [
    "# Build clique size and times of execution for most basic heuristic\n",
    "files = []\n",
    "instance_reading_times = []\n",
    "clique_creating_times = []\n",
    "total_times = []\n",
    "clique_sizes = []\n",
    "methods = []\n",
    "\n",
    "for file in BASE_INSTANCES_FILES:\n",
    "    for method, verbose_method in [\n",
    "        (descending_degree_glutonous_heuristic, \"desc_base\"),\n",
    "        (dynamic_descending_degree_glutonous_heuristic, \"desc_dyn\"),\n",
    "        (descending_degree_random_heuristic, \"desc_ran\"),\n",
    "        (multiple_descending_degree_random_heuristic, \"mult_ran\")\n",
    "    ]:\n",
    "        # Method and file adding\n",
    "        methods.append(verbose_method)\n",
    "        files.append(file)\n",
    "\n",
    "        # File loading\n",
    "        start_time = time()\n",
    "        _, _, graph, degrees = read_single_problem_from_path_as_adjacency(\n",
    "            instance_path=BASE_INSTANCES_DIR / file\n",
    "        )\n",
    "        end_of_read_time = time()\n",
    "        instance_reading_times.append(end_of_read_time - start_time)\n",
    "\n",
    "        # Clique building\n",
    "        clique = method(graph=graph, degrees=degrees)\n",
    "        clique_sizes.append(len(clique))\n",
    "        end_of_clique_time = time()\n",
    "        clique_creating_times.append(end_of_clique_time - end_of_read_time)\n",
    "\n",
    "        assert check_validity_for_adjacency(graph, clique)\n",
    "        total_times.append(time() - start_time)\n",
    "    \n",
    "    # At the end of each method, add visual separator\n",
    "    for display_list in [files, instance_reading_times, clique_creating_times, total_times, clique_sizes, methods]:\n",
    "        display_list.append(\"/////\")\n"
   ]
  },
  {
   "cell_type": "code",
   "execution_count": 4,
   "metadata": {},
   "outputs": [
    {
     "name": "stdout",
     "output_type": "stream",
     "text": [
      "              file     method clique size instance time clique time total time\n",
      "0   brock200_2.col  desc_base           7      0.054014    0.004027   0.058041\n",
      "1   brock200_2.col   desc_dyn           7      0.051069    0.003986   0.055055\n",
      "2   brock200_2.col   desc_ran           7      0.054015    0.004947   0.058962\n",
      "3   brock200_2.col   mult_ran           8         0.054    0.408984   0.462984\n",
      "4            /////      /////       /////         /////       /////      /////\n",
      "5    dsjc125.1.col  desc_base           4      0.005032    0.002007   0.007039\n",
      "6    dsjc125.1.col   desc_dyn           4         0.003    0.002001   0.005001\n",
      "7    dsjc125.1.col   desc_ran           3      0.004009    0.001991      0.006\n",
      "8    dsjc125.1.col   mult_ran           3      0.004012    0.185763   0.189775\n",
      "9            /////      /////       /////         /////       /////      /////\n",
      "10   random-10.col  desc_base           5           0.0         0.0        0.0\n",
      "11   random-10.col   desc_dyn           5      0.001002         0.0   0.001002\n",
      "12   random-10.col   desc_ran           4           0.0         0.0        0.0\n",
      "13   random-10.col   mult_ran           3      0.000999    0.013999   0.014999\n",
      "14           /////      /////       /////         /////       /////      /////\n",
      "15  random-100.col  desc_base           8      0.012999    0.001001      0.014\n",
      "16  random-100.col   desc_dyn           8      0.012999       0.002      0.015\n",
      "17  random-100.col   desc_ran           8      0.011999    0.003002   0.015001\n",
      "18  random-100.col   mult_ran           6      0.011998    0.204003   0.216001\n",
      "19           /////      /////       /////         /////       /////      /////\n",
      "20   random-40.col  desc_base           7         0.003    0.000999   0.003999\n",
      "21   random-40.col   desc_dyn           6      0.002008    0.001992      0.004\n",
      "22   random-40.col   desc_ran           6      0.003003    0.001996   0.004999\n",
      "23   random-40.col   mult_ran           6         0.002       0.088   0.089999\n",
      "24           /////      /////       /////         /////       /////      /////\n",
      "25   random-70.col  desc_base           7         0.008    0.002002   0.010002\n",
      "26   random-70.col   desc_dyn           7      0.008999    0.002037   0.011036\n",
      "27   random-70.col   desc_ran           6      0.011963    0.003001   0.014965\n",
      "28   random-70.col   mult_ran           7      0.011001       0.166   0.177001\n",
      "29           /////      /////       /////         /////       /////      /////\n"
     ]
    }
   ],
   "source": [
    "# Display for most basic heuristic\n",
    "\n",
    "display_dataframe = pd.DataFrame(\n",
    "    {\n",
    "        \"file\": files,\n",
    "        \"method\": methods,\n",
    "        \"clique size\": clique_sizes,\n",
    "        \"instance time\": instance_reading_times,\n",
    "        \"clique time\": clique_creating_times,\n",
    "        \"total time\": total_times,\n",
    "    }\n",
    ")\n",
    "print(display_dataframe)\n"
   ]
  }
 ],
 "metadata": {
  "kernelspec": {
   "display_name": "Python 3.10.2 ('projet_MH': venv)",
   "language": "python",
   "name": "python3"
  },
  "language_info": {
   "codemirror_mode": {
    "name": "ipython",
    "version": 3
   },
   "file_extension": ".py",
   "mimetype": "text/x-python",
   "name": "python",
   "nbconvert_exporter": "python",
   "pygments_lexer": "ipython3",
   "version": "3.10.2"
  },
  "orig_nbformat": 4,
  "vscode": {
   "interpreter": {
    "hash": "394d83e5b1ffce0d121f660ba29d6d2dfe8b3a88ed0a25224231f21a953d4a07"
   }
  }
 },
 "nbformat": 4,
 "nbformat_minor": 2
}

{
 "cells": [
  {
   "cell_type": "code",
   "execution_count": 1,
   "metadata": {},
   "outputs": [],
   "source": [
    "# imports\n",
    "from pathlib import Path\n",
    "from time import time\n",
    "\n",
    "import numpy as np\n",
    "import pandas as pd\n",
    "\n",
    "from utils import (\n",
    "    read_single_problem_from_path_as_adjacency,\n",
    "    read_single_problem_from_path_as_sparse,\n",
    "    read_single_problem_from_path_as_sparse_from_adjacency,\n",
    "    order_nodes_in_descending_order,\n",
    "    check_validity_for_adjacency,\n",
    "    transform_node_clique_to_zero_one,\n",
    "    transform_zero_one_clique_to_nodes\n",
    ")\n",
    "from constants import BASE_INSTANCES_FILES, OTHER_INSTANCES_FILES, OTHER_INSTANCES_BEST_KNOWN\n",
    "from heuristics import (\n",
    "    HeuristicRunner,\n",
    "    descending_degree_glutonous_heuristic,\n",
    "    dynamic_descending_degree_glutonous_heuristic,\n",
    "    descending_degree_random_heuristic,\n",
    "    multiple_descending_degree_random_heuristic\n",
    ")\n",
    "\n",
    "# Constants\n",
    "ROOT_DIR = Path.cwd().parent\n",
    "# Instances pathes\n",
    "INSTANCES_DIR = ROOT_DIR / \"instances\"\n",
    "BASE_INSTANCES_DIR = INSTANCES_DIR / \"project_instances\"\n",
    "OTHER_INSTANCES_DIR = INSTANCES_DIR / \"other_instances\"\n"
   ]
  },
  {
   "cell_type": "code",
   "execution_count": 2,
   "metadata": {},
   "outputs": [
    {
     "name": "stdout",
     "output_type": "stream",
     "text": [
      "[[0 1 0 1 1 1 0 0 1 0]\n",
      " [1 0 1 0 1 0 1 1 1 1]\n",
      " [0 1 0 1 0 1 0 0 0 1]\n",
      " [1 0 1 0 0 0 0 0 1 0]\n",
      " [1 1 0 0 0 1 1 1 0 1]\n",
      " [1 0 1 0 1 0 1 0 1 0]\n",
      " [0 1 0 0 1 1 0 1 1 1]\n",
      " [0 1 0 0 1 0 1 0 0 1]\n",
      " [1 1 0 1 0 1 1 0 0 0]\n",
      " [0 1 1 0 1 0 1 1 0 0]]\n",
      "[0 1 0 0 1 0 1 1 0 1]\n",
      "Is the clique valid ?  True\n"
     ]
    }
   ],
   "source": [
    "_, _, graph, degrees = read_single_problem_from_path_as_adjacency(\n",
    "    instance_path=BASE_INSTANCES_DIR / \"random-10.col\"\n",
    ")\n",
    "print(graph)\n",
    "clique = descending_degree_glutonous_heuristic(graph=graph, degrees=degrees)\n",
    "print(clique)\n",
    "print(\"Is the clique valid ? \", check_validity_for_adjacency(graph, clique))\n"
   ]
  },
  {
   "cell_type": "code",
   "execution_count": 3,
   "metadata": {},
   "outputs": [
    {
     "name": "stdout",
     "output_type": "stream",
     "text": [
      "[0 1 0 0 1 0 1 1 0 1]\n",
      "[1, 4, 6, 7, 9]\n",
      "[0 1 0 0 1 0 1 1 0 1]\n"
     ]
    }
   ],
   "source": [
    "# Check that clique representation utils work\n",
    "number_of_nodes, _, graph, degrees = read_single_problem_from_path_as_adjacency(\n",
    "    instance_path=BASE_INSTANCES_DIR / \"random-10.col\"\n",
    ")\n",
    "clique = descending_degree_glutonous_heuristic(graph=graph, degrees=degrees)\n",
    "print(clique)\n",
    "print(transform_zero_one_clique_to_nodes(clique))\n",
    "print(transform_node_clique_to_zero_one(number_of_nodes, transform_zero_one_clique_to_nodes(clique)))"
   ]
  },
  {
   "cell_type": "code",
   "execution_count": 4,
   "metadata": {},
   "outputs": [
    {
     "name": "stdout",
     "output_type": "stream",
     "text": [
      "          instance     method clique best  total(s)\n",
      "0   brock200_2.col  desc_base      7   //  0.033909\n",
      "1   brock200_2.col   desc_dyn      7   //  0.031914\n",
      "2   brock200_2.col   desc_ran      9   //  0.032934\n",
      "3   brock200_2.col   mult_ran      7   //  0.071836\n",
      "4              ///        ///    ///  ///       ///\n",
      "5    dsjc125.1.col  desc_base      4   //  0.004967\n",
      "6    dsjc125.1.col   desc_dyn      4   //  0.004017\n",
      "7    dsjc125.1.col   desc_ran      3   //  0.003997\n",
      "8    dsjc125.1.col   mult_ran      4   //  0.022966\n",
      "9              ///        ///    ///  ///       ///\n",
      "10   random-10.col  desc_base      5   //  0.000998\n",
      "11   random-10.col   desc_dyn      5   //  0.001001\n",
      "12   random-10.col   desc_ran      3   //  0.001007\n",
      "13   random-10.col   mult_ran      3   //  0.001966\n",
      "14             ///        ///    ///  ///       ///\n",
      "15  random-100.col  desc_base      8   //  0.010003\n",
      "16  random-100.col   desc_dyn      8   //  0.007978\n",
      "17  random-100.col   desc_ran      8   //  0.009973\n",
      "18  random-100.col   mult_ran      8   //  0.028385\n",
      "19             ///        ///    ///  ///       ///\n",
      "20   random-40.col  desc_base      7   //  0.001995\n",
      "21   random-40.col   desc_dyn      6   //  0.001995\n",
      "22   random-40.col   desc_ran      6   //  0.002965\n",
      "23   random-40.col   mult_ran      6   //   0.00798\n",
      "24             ///        ///    ///  ///       ///\n",
      "25   random-70.col  desc_base      7   //  0.006981\n",
      "26   random-70.col   desc_dyn      7   //  0.004987\n",
      "27   random-70.col   desc_ran      6   //   0.00601\n",
      "28   random-70.col   mult_ran      7   //   0.01895\n",
      "29             ///        ///    ///  ///       ///\n"
     ]
    }
   ],
   "source": [
    "# Test on project instances\n",
    "runner = HeuristicRunner(\n",
    "    instances_dir=BASE_INSTANCES_DIR,\n",
    "    instances=BASE_INSTANCES_FILES,\n",
    "    methods=[\n",
    "        (descending_degree_glutonous_heuristic, \"desc_base\"),\n",
    "        (dynamic_descending_degree_glutonous_heuristic, \"desc_dyn\"),\n",
    "        (descending_degree_random_heuristic, \"desc_ran\"),\n",
    "        (multiple_descending_degree_random_heuristic, \"mult_ran\")\n",
    "    ],\n",
    "    known_bests={},\n",
    "    display_time_details=False\n",
    ")\n",
    "runner.run_all_methods_on_all_instances()\n",
    "runner.display_results()"
   ]
  },
  {
   "cell_type": "code",
   "execution_count": 5,
   "metadata": {},
   "outputs": [
    {
     "name": "stdout",
     "output_type": "stream",
     "text": [
      "              instance     method clique best  total(s)\n",
      "0       brock800_4.txt  desc_base     14   26  0.644272\n",
      "1       brock800_4.txt   desc_dyn     14   26  0.676319\n",
      "2       brock800_4.txt   desc_ran     15   26   0.63184\n",
      "3       brock800_4.txt   mult_ran     15   26   0.87098\n",
      "4                  ///        ///    ///  ///       ///\n",
      "5          C2000.5.txt  desc_base     10   16  3.118224\n",
      "6          C2000.5.txt   desc_dyn     10   16  3.062845\n",
      "7          C2000.5.txt   desc_ran     10   16  2.801503\n",
      "8          C2000.5.txt   mult_ran     14   16  3.422372\n",
      "9                  ///        ///    ///  ///       ///\n",
      "10          C500.9.txt  desc_base     43   57  0.342087\n",
      "11          C500.9.txt   desc_dyn     42   57  0.348643\n",
      "12          C500.9.txt   desc_ran     43   57  0.352994\n",
      "13          C500.9.txt   mult_ran     44   57   0.71064\n",
      "14                 ///        ///    ///  ///       ///\n",
      "15  gen400_p0.9_75.txt  desc_base     47   75  0.230386\n",
      "16  gen400_p0.9_75.txt   desc_dyn     47   75  0.229951\n",
      "17  gen400_p0.9_75.txt   desc_ran     46   75   0.22543\n",
      "18  gen400_p0.9_75.txt   mult_ran     46   75  0.496469\n",
      "19                 ///        ///    ///  ///       ///\n",
      "20     p_hat1500-3.txt  desc_base     75   94  2.636958\n",
      "21     p_hat1500-3.txt   desc_dyn     75   94  2.856825\n",
      "22     p_hat1500-3.txt   desc_ran     75   94  2.640668\n",
      "23     p_hat1500-3.txt   mult_ran     76   94  4.493569\n",
      "24                 ///        ///    ///  ///       ///\n",
      "25      p_hat700-1.txt  desc_base      7   11  0.180517\n",
      "26      p_hat700-1.txt   desc_dyn      7   11  0.182516\n",
      "27      p_hat700-1.txt   desc_ran      7   11   0.18248\n",
      "28      p_hat700-1.txt   mult_ran      7   11   0.32662\n",
      "29                 ///        ///    ///  ///       ///\n"
     ]
    }
   ],
   "source": [
    "# Test on other bigger instances.\n",
    "runner = HeuristicRunner(\n",
    "    instances_dir=OTHER_INSTANCES_DIR,\n",
    "    instances=OTHER_INSTANCES_FILES,\n",
    "    methods=[\n",
    "        (descending_degree_glutonous_heuristic, \"desc_base\"),\n",
    "        (dynamic_descending_degree_glutonous_heuristic, \"desc_dyn\"),\n",
    "        (descending_degree_random_heuristic, \"desc_ran\"),\n",
    "        (multiple_descending_degree_random_heuristic, \"mult_ran\")\n",
    "    ],\n",
    "    known_bests=OTHER_INSTANCES_BEST_KNOWN,\n",
    "    display_time_details=False\n",
    ")\n",
    "runner.run_all_methods_on_all_instances()\n",
    "runner.display_results()"
   ]
  },
  {
   "cell_type": "code",
   "execution_count": 6,
   "metadata": {},
   "outputs": [
    {
     "name": "stdout",
     "output_type": "stream",
     "text": [
      "          instance  method clique best  total(s)\n",
      "0   brock200_2.col   ran_2      7   //  0.034906\n",
      "1   brock200_2.col   ran_3      8   //  0.031942\n",
      "2   brock200_2.col   ran_4      7   //  0.031914\n",
      "3   brock200_2.col   ran_5      7   //  0.032882\n",
      "4   brock200_2.col   ran_6      7   //  0.033295\n",
      "..             ...     ...    ...  ...       ...\n",
      "85   random-70.col  ran_12      5   //  0.004987\n",
      "86   random-70.col  ran_13      7   //  0.004986\n",
      "87   random-70.col  ran_14      5   //  0.005015\n",
      "88   random-70.col  ran_15      7   //  0.005985\n",
      "89             ///     ///    ///  ///       ///\n",
      "\n",
      "[90 rows x 5 columns]\n"
     ]
    }
   ],
   "source": [
    "# Test different size of choices for the nodes for random heuristic\n",
    "methods = [\n",
    "    (lambda *args, **kwargs: descending_degree_random_heuristic(*args, **kwargs, size_of_choice=2), f\"ran_{2}\"),\n",
    "    (lambda *args, **kwargs: descending_degree_random_heuristic(*args, **kwargs, size_of_choice=3), f\"ran_{3}\"),\n",
    "    (lambda *args, **kwargs: descending_degree_random_heuristic(*args, **kwargs, size_of_choice=4), f\"ran_{4}\"),\n",
    "    (lambda *args, **kwargs: descending_degree_random_heuristic(*args, **kwargs, size_of_choice=5), f\"ran_{5}\"),\n",
    "    (lambda *args, **kwargs: descending_degree_random_heuristic(*args, **kwargs, size_of_choice=6), f\"ran_{6}\"),\n",
    "    (lambda *args, **kwargs: descending_degree_random_heuristic(*args, **kwargs, size_of_choice=7), f\"ran_{7}\"),\n",
    "    (lambda *args, **kwargs: descending_degree_random_heuristic(*args, **kwargs, size_of_choice=8), f\"ran_{8}\"),\n",
    "    (lambda *args, **kwargs: descending_degree_random_heuristic(*args, **kwargs, size_of_choice=9), f\"ran_{9}\"),\n",
    "    (lambda *args, **kwargs: descending_degree_random_heuristic(*args, **kwargs, size_of_choice=10), f\"ran_{10}\"),\n",
    "    (lambda *args, **kwargs: descending_degree_random_heuristic(*args, **kwargs, size_of_choice=11), f\"ran_{11}\"),\n",
    "    (lambda *args, **kwargs: descending_degree_random_heuristic(*args, **kwargs, size_of_choice=12), f\"ran_{12}\"),\n",
    "    (lambda *args, **kwargs: descending_degree_random_heuristic(*args, **kwargs, size_of_choice=13), f\"ran_{13}\"),\n",
    "    (lambda *args, **kwargs: descending_degree_random_heuristic(*args, **kwargs, size_of_choice=14), f\"ran_{14}\"),\n",
    "    (lambda *args, **kwargs: descending_degree_random_heuristic(*args, **kwargs, size_of_choice=15), f\"ran_{15}\"),\n",
    "]\n",
    "runner = HeuristicRunner(\n",
    "    instances_dir=BASE_INSTANCES_DIR,\n",
    "    instances=BASE_INSTANCES_FILES,\n",
    "    methods=methods,\n",
    "    known_bests={},\n",
    "    display_time_details=False\n",
    ")\n",
    "runner.run_all_methods_on_all_instances()\n",
    "runner.display_results()"
   ]
  }
 ],
 "metadata": {
  "kernelspec": {
   "display_name": "Python 3.10.7 ('projet_MH': venv)",
   "language": "python",
   "name": "python3"
  },
  "language_info": {
   "codemirror_mode": {
    "name": "ipython",
    "version": 3
   },
   "file_extension": ".py",
   "mimetype": "text/x-python",
   "name": "python",
   "nbconvert_exporter": "python",
   "pygments_lexer": "ipython3",
   "version": "3.10.7"
  },
  "orig_nbformat": 4,
  "vscode": {
   "interpreter": {
    "hash": "014c32241fd24097c2ed30b986768831995353224364fca8d9b563f6fce9ba3b"
   }
  }
 },
 "nbformat": 4,
 "nbformat_minor": 2
}

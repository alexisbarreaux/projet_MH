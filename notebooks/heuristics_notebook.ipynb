{
 "cells": [
  {
   "cell_type": "code",
   "execution_count": 7,
   "metadata": {},
   "outputs": [],
   "source": [
    "# imports\n",
    "from pathlib import Path\n",
    "from time import time\n",
    "\n",
    "import numpy as np\n",
    "import pandas as pd\n",
    "\n",
    "from utils import (read_single_problem_from_path_as_adjacency,\n",
    " read_single_problem_from_path_as_sparse, \n",
    " read_single_problem_from_path_as_sparse_from_adjacency,\n",
    " order_nodes_in_descending_order,\n",
    " check_validity_for_adjacency)\n",
    "from constants import BASE_INSTANCES_FILES\n",
    "from heuristics import descending_degree_glutonous_heuristic, dynamic_descending_degree_glutonous_heuristic\n",
    "\n",
    "# Constants\n",
    "ROOT_DIR = Path.cwd().parent\n",
    "# Instances pathes\n",
    "INSTANCES_DIR = ROOT_DIR / \"instances\"\n",
    "BASE_INSTANCES_DIR = INSTANCES_DIR / \"project_instances\"\n",
    "OTHER_INSTANCES_DR = INSTANCES_DIR / \"other_instances\""
   ]
  },
  {
   "cell_type": "code",
   "execution_count": 8,
   "metadata": {},
   "outputs": [
    {
     "name": "stdout",
     "output_type": "stream",
     "text": [
      "[[0 1 0 1 1 1 0 0 1 0]\n",
      " [1 0 1 0 1 0 1 1 1 1]\n",
      " [0 1 0 1 0 1 0 0 0 1]\n",
      " [1 0 1 0 0 0 0 0 1 0]\n",
      " [1 1 0 0 0 1 1 1 0 1]\n",
      " [1 0 1 0 1 0 1 0 1 0]\n",
      " [0 1 0 0 1 1 0 1 1 1]\n",
      " [0 1 0 0 1 0 1 0 0 1]\n",
      " [1 1 0 1 0 1 1 0 0 0]\n",
      " [0 1 1 0 1 0 1 1 0 0]]\n",
      "[1, 4, 6, 9, 7]\n",
      "Is the clique valid ?  True\n"
     ]
    }
   ],
   "source": [
    "_,_, graph, degrees = read_single_problem_from_path_as_adjacency(\n",
    "        instance_path=BASE_INSTANCES_DIR / \"random-10.col\"\n",
    "    )\n",
    "print(graph)\n",
    "clique =descending_degree_glutonous_heuristic(graph=graph, degrees=degrees)\n",
    "print(clique)\n",
    "print(\"Is the clique valid ? \", check_validity_for_adjacency(graph, clique))"
   ]
  },
  {
   "cell_type": "code",
   "execution_count": 9,
   "metadata": {},
   "outputs": [],
   "source": [
    "# Build clique size and times of execution for most basic heuristic\n",
    "files = []\n",
    "instance_reading_times = []\n",
    "clique_creating_times = []\n",
    "total_times = []\n",
    "clique_sizes = []\n",
    "\n",
    "for file in BASE_INSTANCES_FILES:\n",
    "    files.append(file)\n",
    "\n",
    "    start_time = time()\n",
    "    _,_, graph, degrees = read_single_problem_from_path_as_adjacency(\n",
    "            instance_path=BASE_INSTANCES_DIR / file\n",
    "        )\n",
    "    end_of_read_time = time()\n",
    "    instance_reading_times.append(end_of_read_time - start_time)\n",
    "\n",
    "    clique =descending_degree_glutonous_heuristic(graph=graph, degrees=degrees)\n",
    "    clique_sizes.append(len(clique))\n",
    "    end_of_clique_time = time()\n",
    "    clique_creating_times.append(end_of_clique_time -end_of_read_time)\n",
    "\n",
    "    assert(check_validity_for_adjacency(graph, clique))\n",
    "    total_times.append(time() - start_time)\n"
   ]
  },
  {
   "cell_type": "code",
   "execution_count": 10,
   "metadata": {},
   "outputs": [
    {
     "name": "stdout",
     "output_type": "stream",
     "text": [
      "             file  clique size  instance time  clique time  total time\n",
      "0  brock200_2.col            7       0.061152     0.005006    0.066158\n",
      "1   dsjc125.1.col            4       0.003992     0.002001    0.005994\n",
      "2   random-10.col            5       0.001001     0.000000    0.001001\n",
      "3  random-100.col            8       0.014001     0.001999    0.016000\n",
      "4   random-40.col            7       0.002999     0.000000    0.002999\n",
      "5   random-70.col            7       0.008000     0.001000    0.009001\n"
     ]
    }
   ],
   "source": [
    "# Display for most basic heuristic\n",
    "\n",
    "display_dataframe = pd.DataFrame({\n",
    "    \"file\":files,\n",
    "    \"clique size\": clique_sizes, \n",
    "    \"instance time\": instance_reading_times,\n",
    "    \"clique time\":clique_creating_times,\n",
    "    \"total time\" : total_times,\n",
    "})\n",
    "print(display_dataframe)"
   ]
  },
  {
   "cell_type": "code",
   "execution_count": 11,
   "metadata": {},
   "outputs": [],
   "source": [
    "# Build clique size and times of execution for basic dynamic heuristic\n",
    "files = []\n",
    "instance_reading_times = []\n",
    "clique_creating_times = []\n",
    "total_times = []\n",
    "clique_sizes = []\n",
    "\n",
    "for file in BASE_INSTANCES_FILES:\n",
    "    files.append(file)\n",
    "\n",
    "    start_time = time()\n",
    "    _,_, graph, degrees = read_single_problem_from_path_as_adjacency(\n",
    "            instance_path=BASE_INSTANCES_DIR / file\n",
    "        )\n",
    "    end_of_read_time = time()\n",
    "    instance_reading_times.append(end_of_read_time - start_time)\n",
    "\n",
    "    clique =dynamic_descending_degree_glutonous_heuristic(graph=graph, degrees=degrees)\n",
    "    clique_sizes.append(len(clique))\n",
    "    end_of_clique_time = time()\n",
    "    clique_creating_times.append(end_of_clique_time -end_of_read_time)\n",
    "\n",
    "    assert(check_validity_for_adjacency(graph, clique))\n",
    "    total_times.append(time() - start_time)"
   ]
  },
  {
   "cell_type": "code",
   "execution_count": 12,
   "metadata": {},
   "outputs": [
    {
     "name": "stdout",
     "output_type": "stream",
     "text": [
      "             file  clique size  instance time  clique time  total time\n",
      "0  brock200_2.col            7       0.072999     0.005059    0.078058\n",
      "1   dsjc125.1.col            4       0.004007     0.001980    0.005986\n",
      "2   random-10.col            5       0.000000     0.000999    0.000999\n",
      "3  random-100.col            8       0.015029     0.001979    0.017009\n",
      "4   random-40.col            6       0.003017     0.000000    0.003017\n",
      "5   random-70.col            7       0.008999     0.001986    0.010984\n"
     ]
    }
   ],
   "source": [
    "# Display for most dynamic heuristic\n",
    "\n",
    "display_dataframe = pd.DataFrame({\n",
    "    \"file\":files,\n",
    "    \"clique size\": clique_sizes, \n",
    "    \"instance time\": instance_reading_times,\n",
    "    \"clique time\":clique_creating_times,\n",
    "    \"total time\" : total_times,\n",
    "})\n",
    "print(display_dataframe)"
   ]
  }
 ],
 "metadata": {
  "kernelspec": {
   "display_name": "Python 3.10.2 ('projet_MH': venv)",
   "language": "python",
   "name": "python3"
  },
  "language_info": {
   "codemirror_mode": {
    "name": "ipython",
    "version": 3
   },
   "file_extension": ".py",
   "mimetype": "text/x-python",
   "name": "python",
   "nbconvert_exporter": "python",
   "pygments_lexer": "ipython3",
   "version": "3.10.2"
  },
  "orig_nbformat": 4,
  "vscode": {
   "interpreter": {
    "hash": "394d83e5b1ffce0d121f660ba29d6d2dfe8b3a88ed0a25224231f21a953d4a07"
   }
  }
 },
 "nbformat": 4,
 "nbformat_minor": 2
}

{
 "cells": [
  {
   "cell_type": "code",
   "execution_count": 1,
   "metadata": {},
   "outputs": [],
   "source": [
    "# imports\n",
    "from pathlib import Path\n",
    "from time import time\n",
    "\n",
    "import numpy as np\n",
    "import pandas as pd\n",
    "\n",
    "from utils import (\n",
    "    read_single_problem_from_path_as_adjacency,\n",
    "    read_single_problem_from_path_as_sparse,\n",
    "    read_single_problem_from_path_as_sparse_from_adjacency,\n",
    "    order_nodes_in_descending_order,\n",
    "    check_validity_for_adjacency,\n",
    "    transform_node_clique_to_zero_one,\n",
    "    transform_zero_one_clique_to_nodes\n",
    ")\n",
    "from constants import BASE_INSTANCES_FILES\n",
    "from heuristics import (\n",
    "    descending_degree_glutonous_heuristic,\n",
    "    dynamic_descending_degree_glutonous_heuristic,\n",
    "    descending_degree_random_heuristic,\n",
    "    multiple_descending_degree_random_heuristic\n",
    ")\n",
    "\n",
    "# Constants\n",
    "ROOT_DIR = Path.cwd().parent\n",
    "# Instances pathes\n",
    "INSTANCES_DIR = ROOT_DIR / \"instances\"\n",
    "BASE_INSTANCES_DIR = INSTANCES_DIR / \"project_instances\"\n",
    "OTHER_INSTANCES_DR = INSTANCES_DIR / \"other_instances\"\n"
   ]
  },
  {
   "cell_type": "code",
   "execution_count": 2,
   "metadata": {},
   "outputs": [
    {
     "name": "stdout",
     "output_type": "stream",
     "text": [
      "[[0 1 0 1 1 1 0 0 1 0]\n",
      " [1 0 1 0 1 0 1 1 1 1]\n",
      " [0 1 0 1 0 1 0 0 0 1]\n",
      " [1 0 1 0 0 0 0 0 1 0]\n",
      " [1 1 0 0 0 1 1 1 0 1]\n",
      " [1 0 1 0 1 0 1 0 1 0]\n",
      " [0 1 0 0 1 1 0 1 1 1]\n",
      " [0 1 0 0 1 0 1 0 0 1]\n",
      " [1 1 0 1 0 1 1 0 0 0]\n",
      " [0 1 1 0 1 0 1 1 0 0]]\n",
      "[0 1 0 0 1 0 1 1 0 1]\n",
      "Is the clique valid ?  True\n"
     ]
    }
   ],
   "source": [
    "_, _, graph, degrees = read_single_problem_from_path_as_adjacency(\n",
    "    instance_path=BASE_INSTANCES_DIR / \"random-10.col\"\n",
    ")\n",
    "print(graph)\n",
    "clique = descending_degree_glutonous_heuristic(graph=graph, degrees=degrees)\n",
    "print(clique)\n",
    "print(\"Is the clique valid ? \", check_validity_for_adjacency(graph, clique))\n"
   ]
  },
  {
   "cell_type": "code",
   "execution_count": 5,
   "metadata": {},
   "outputs": [
    {
     "name": "stdout",
     "output_type": "stream",
     "text": [
      "[0 1 0 0 1 0 1 1 0 1]\n",
      "[1, 4, 6, 7, 9]\n",
      "[0 1 0 0 1 0 1 1 0 1]\n"
     ]
    }
   ],
   "source": [
    "# Check that clique representation utils work\n",
    "number_of_nodes, _, graph, degrees = read_single_problem_from_path_as_adjacency(\n",
    "    instance_path=BASE_INSTANCES_DIR / \"random-10.col\"\n",
    ")\n",
    "clique = descending_degree_glutonous_heuristic(graph=graph, degrees=degrees)\n",
    "print(clique)\n",
    "print(transform_zero_one_clique_to_nodes(clique))\n",
    "print(transform_node_clique_to_zero_one(number_of_nodes, transform_zero_one_clique_to_nodes(clique)))"
   ]
  },
  {
   "cell_type": "code",
   "execution_count": 4,
   "metadata": {},
   "outputs": [
    {
     "ename": "IndexError",
     "evalue": "only integers, slices (`:`), ellipsis (`...`), numpy.newaxis (`None`) and integer or boolean arrays are valid indices",
     "output_type": "error",
     "traceback": [
      "\u001b[1;31m---------------------------------------------------------------------------\u001b[0m",
      "\u001b[1;31mIndexError\u001b[0m                                Traceback (most recent call last)",
      "Cell \u001b[1;32mIn [4], line 29\u001b[0m\n\u001b[0;32m     26\u001b[0m instance_reading_times\u001b[39m.\u001b[39mappend(end_of_read_time \u001b[39m-\u001b[39m start_time)\n\u001b[0;32m     28\u001b[0m \u001b[39m# Clique building\u001b[39;00m\n\u001b[1;32m---> 29\u001b[0m clique \u001b[39m=\u001b[39m method(graph\u001b[39m=\u001b[39;49mgraph, degrees\u001b[39m=\u001b[39;49mdegrees)\n\u001b[0;32m     30\u001b[0m clique_sizes\u001b[39m.\u001b[39mappend(\u001b[39mlen\u001b[39m(clique))\n\u001b[0;32m     31\u001b[0m end_of_clique_time \u001b[39m=\u001b[39m time()\n",
      "File \u001b[1;32mc:\\Users\\alexi\\Documents\\GitHub\\projet_MH\\heuristics\\descending_degree_random.py:45\u001b[0m, in \u001b[0;36mdescending_degree_random_heuristic\u001b[1;34m(graph, degrees, size_of_choice)\u001b[0m\n\u001b[0;32m     42\u001b[0m \u001b[39mif\u001b[39;00m degrees[candidate_node] \u001b[39m<\u001b[39m clique_size:\n\u001b[0;32m     43\u001b[0m     \u001b[39mreturn\u001b[39;00m clique\n\u001b[0;32m     44\u001b[0m \u001b[39melif\u001b[39;00m np\u001b[39m.\u001b[39mall(\n\u001b[1;32m---> 45\u001b[0m     [\n\u001b[0;32m     46\u001b[0m         check_if_edge_exists_in_adjacency(\n\u001b[0;32m     47\u001b[0m             graph\u001b[39m=\u001b[39mgraph, first_node\u001b[39m=\u001b[39mcandidate_node, second_node\u001b[39m=\u001b[39mclique_node\n\u001b[0;32m     48\u001b[0m         )\n\u001b[0;32m     49\u001b[0m         \u001b[39mfor\u001b[39;00m clique_node \u001b[39min\u001b[39;00m clique\n\u001b[0;32m     50\u001b[0m     ]\n\u001b[0;32m     51\u001b[0m ):\n\u001b[0;32m     52\u001b[0m     clique[candidate_node] \u001b[39m=\u001b[39m \u001b[39m1\u001b[39m\n\u001b[0;32m     53\u001b[0m     clique_size \u001b[39m+\u001b[39m\u001b[39m=\u001b[39m \u001b[39m1\u001b[39m\n",
      "File \u001b[1;32mc:\\Users\\alexi\\Documents\\GitHub\\projet_MH\\heuristics\\descending_degree_random.py:46\u001b[0m, in \u001b[0;36m<listcomp>\u001b[1;34m(.0)\u001b[0m\n\u001b[0;32m     42\u001b[0m \u001b[39mif\u001b[39;00m degrees[candidate_node] \u001b[39m<\u001b[39m clique_size:\n\u001b[0;32m     43\u001b[0m     \u001b[39mreturn\u001b[39;00m clique\n\u001b[0;32m     44\u001b[0m \u001b[39melif\u001b[39;00m np\u001b[39m.\u001b[39mall(\n\u001b[0;32m     45\u001b[0m     [\n\u001b[1;32m---> 46\u001b[0m         check_if_edge_exists_in_adjacency(\n\u001b[0;32m     47\u001b[0m             graph\u001b[39m=\u001b[39;49mgraph, first_node\u001b[39m=\u001b[39;49mcandidate_node, second_node\u001b[39m=\u001b[39;49mclique_node\n\u001b[0;32m     48\u001b[0m         )\n\u001b[0;32m     49\u001b[0m         \u001b[39mfor\u001b[39;00m clique_node \u001b[39min\u001b[39;00m clique\n\u001b[0;32m     50\u001b[0m     ]\n\u001b[0;32m     51\u001b[0m ):\n\u001b[0;32m     52\u001b[0m     clique[candidate_node] \u001b[39m=\u001b[39m \u001b[39m1\u001b[39m\n\u001b[0;32m     53\u001b[0m     clique_size \u001b[39m+\u001b[39m\u001b[39m=\u001b[39m \u001b[39m1\u001b[39m\n",
      "File \u001b[1;32mc:\\Users\\alexi\\Documents\\GitHub\\projet_MH\\utils\\graph_handling_utils.py:7\u001b[0m, in \u001b[0;36mcheck_if_edge_exists_in_adjacency\u001b[1;34m(graph, first_node, second_node)\u001b[0m\n\u001b[0;32m      4\u001b[0m \u001b[39mdef\u001b[39;00m \u001b[39mcheck_if_edge_exists_in_adjacency\u001b[39m(\n\u001b[0;32m      5\u001b[0m     graph: np\u001b[39m.\u001b[39mndarray, first_node: \u001b[39mint\u001b[39m, second_node: \u001b[39mint\u001b[39m\n\u001b[0;32m      6\u001b[0m ) \u001b[39m-\u001b[39m\u001b[39m>\u001b[39m \u001b[39mbool\u001b[39m:\n\u001b[1;32m----> 7\u001b[0m     \u001b[39mreturn\u001b[39;00m graph[first_node][second_node] \u001b[39m==\u001b[39m \u001b[39m1\u001b[39m\n",
      "\u001b[1;31mIndexError\u001b[0m: only integers, slices (`:`), ellipsis (`...`), numpy.newaxis (`None`) and integer or boolean arrays are valid indices"
     ]
    }
   ],
   "source": [
    "# Build clique size and times of execution for our base glutonous heuristics\n",
    "files = []\n",
    "instance_reading_times = []\n",
    "clique_creating_times = []\n",
    "total_times = []\n",
    "clique_sizes = []\n",
    "methods = []\n",
    "\n",
    "for file in BASE_INSTANCES_FILES:\n",
    "    for method, verbose_method in [\n",
    "        (descending_degree_glutonous_heuristic, \"desc_base\"),\n",
    "        (dynamic_descending_degree_glutonous_heuristic, \"desc_dyn\"),\n",
    "        (descending_degree_random_heuristic, \"desc_ran\"),\n",
    "        (multiple_descending_degree_random_heuristic, \"mult_ran\")\n",
    "    ]:\n",
    "        # Method and file adding\n",
    "        methods.append(verbose_method)\n",
    "        files.append(file)\n",
    "\n",
    "        # File loading\n",
    "        start_time = time()\n",
    "        _, _, graph, degrees = read_single_problem_from_path_as_adjacency(\n",
    "            instance_path=BASE_INSTANCES_DIR / file\n",
    "        )\n",
    "        end_of_read_time = time()\n",
    "        instance_reading_times.append(end_of_read_time - start_time)\n",
    "\n",
    "        # Clique building\n",
    "        clique = method(graph=graph, degrees=degrees)\n",
    "        clique_sizes.append(np.sum(clique))\n",
    "        end_of_clique_time = time()\n",
    "        clique_creating_times.append(end_of_clique_time - end_of_read_time)\n",
    "\n",
    "        assert check_validity_for_adjacency(graph, clique)\n",
    "        total_times.append(time() - start_time)\n",
    "    \n",
    "    # At the end of each method, add visual separator\n",
    "    for display_list in [files, instance_reading_times, clique_creating_times, total_times, clique_sizes, methods]:\n",
    "        display_list.append(\"/////\")\n"
   ]
  },
  {
   "cell_type": "code",
   "execution_count": null,
   "metadata": {},
   "outputs": [
    {
     "name": "stdout",
     "output_type": "stream",
     "text": [
      "              file     method clique size instance time clique time total time\n",
      "0   brock200_2.col  desc_base           7      0.054014    0.004027   0.058041\n",
      "1   brock200_2.col   desc_dyn           7      0.051069    0.003986   0.055055\n",
      "2   brock200_2.col   desc_ran           7      0.054015    0.004947   0.058962\n",
      "3   brock200_2.col   mult_ran           8         0.054    0.408984   0.462984\n",
      "4            /////      /////       /////         /////       /////      /////\n",
      "5    dsjc125.1.col  desc_base           4      0.005032    0.002007   0.007039\n",
      "6    dsjc125.1.col   desc_dyn           4         0.003    0.002001   0.005001\n",
      "7    dsjc125.1.col   desc_ran           3      0.004009    0.001991      0.006\n",
      "8    dsjc125.1.col   mult_ran           3      0.004012    0.185763   0.189775\n",
      "9            /////      /////       /////         /////       /////      /////\n",
      "10   random-10.col  desc_base           5           0.0         0.0        0.0\n",
      "11   random-10.col   desc_dyn           5      0.001002         0.0   0.001002\n",
      "12   random-10.col   desc_ran           4           0.0         0.0        0.0\n",
      "13   random-10.col   mult_ran           3      0.000999    0.013999   0.014999\n",
      "14           /////      /////       /////         /////       /////      /////\n",
      "15  random-100.col  desc_base           8      0.012999    0.001001      0.014\n",
      "16  random-100.col   desc_dyn           8      0.012999       0.002      0.015\n",
      "17  random-100.col   desc_ran           8      0.011999    0.003002   0.015001\n",
      "18  random-100.col   mult_ran           6      0.011998    0.204003   0.216001\n",
      "19           /////      /////       /////         /////       /////      /////\n",
      "20   random-40.col  desc_base           7         0.003    0.000999   0.003999\n",
      "21   random-40.col   desc_dyn           6      0.002008    0.001992      0.004\n",
      "22   random-40.col   desc_ran           6      0.003003    0.001996   0.004999\n",
      "23   random-40.col   mult_ran           6         0.002       0.088   0.089999\n",
      "24           /////      /////       /////         /////       /////      /////\n",
      "25   random-70.col  desc_base           7         0.008    0.002002   0.010002\n",
      "26   random-70.col   desc_dyn           7      0.008999    0.002037   0.011036\n",
      "27   random-70.col   desc_ran           6      0.011963    0.003001   0.014965\n",
      "28   random-70.col   mult_ran           7      0.011001       0.166   0.177001\n",
      "29           /////      /////       /////         /////       /////      /////\n"
     ]
    }
   ],
   "source": [
    "# Display for most basic heuristics\n",
    "\n",
    "display_dataframe = pd.DataFrame(\n",
    "    {\n",
    "        \"file\": files,\n",
    "        \"method\": methods,\n",
    "        \"clique size\": clique_sizes,\n",
    "        \"instance time\": instance_reading_times,\n",
    "        \"clique time\": clique_creating_times,\n",
    "        \"total time\": total_times,\n",
    "    }\n",
    ")\n",
    "print(display_dataframe)\n"
   ]
  },
  {
   "cell_type": "code",
   "execution_count": null,
   "metadata": {},
   "outputs": [],
   "source": [
    "# Test different size of choices for the nodes for random heuristic\n",
    "files = []\n",
    "instance_reading_times = []\n",
    "clique_creating_times = []\n",
    "total_times = []\n",
    "clique_sizes = []\n",
    "methods = []\n",
    "\n",
    "for file in [\"brock200_2.col\"]:\n",
    "    for k in range(1, 11):\n",
    "        # Method and file adding\n",
    "        methods.append(f\"multi_ran_{k}\")\n",
    "        files.append(file)\n",
    "\n",
    "        # File loading\n",
    "        start_time = time()\n",
    "        _, _, graph, degrees = read_single_problem_from_path_as_adjacency(\n",
    "            instance_path=BASE_INSTANCES_DIR / file\n",
    "        )\n",
    "        end_of_read_time = time()\n",
    "        instance_reading_times.append(end_of_read_time - start_time)\n",
    "\n",
    "        # Clique building\n",
    "        clique = multiple_descending_degree_random_heuristic(graph=graph, degrees=degrees, size_of_choice=k, number_of_iterations=20)\n",
    "        clique_sizes.append(len(clique))\n",
    "        end_of_clique_time = time()\n",
    "        clique_creating_times.append(end_of_clique_time - end_of_read_time)\n",
    "\n",
    "        assert check_validity_for_adjacency(graph, clique)\n",
    "        total_times.append(time() - start_time)\n",
    "    \n",
    "    # At the end of each method, add visual separator\n",
    "    for display_list in [files, instance_reading_times, clique_creating_times, total_times, clique_sizes, methods]:\n",
    "        display_list.append(\"/////\")\n"
   ]
  },
  {
   "cell_type": "code",
   "execution_count": null,
   "metadata": {},
   "outputs": [
    {
     "name": "stdout",
     "output_type": "stream",
     "text": [
      "              file        method clique size instance time clique time  \\\n",
      "0   brock200_2.col   multi_ran_1           7      0.063993    0.090002   \n",
      "1   brock200_2.col   multi_ran_2           7      0.050018    0.083028   \n",
      "2   brock200_2.col   multi_ran_3           7      0.052954    0.090038   \n",
      "3   brock200_2.col   multi_ran_4           7      0.058967    0.119515   \n",
      "4   brock200_2.col   multi_ran_5           8      0.111997    0.113998   \n",
      "5   brock200_2.col   multi_ran_6           7      0.051999    0.083002   \n",
      "6   brock200_2.col   multi_ran_7           8         0.059    0.090137   \n",
      "7   brock200_2.col   multi_ran_8           8      0.052107    0.082648   \n",
      "8   brock200_2.col   multi_ran_9           8      0.052999       0.087   \n",
      "9   brock200_2.col  multi_ran_10           8      0.055054    0.081987   \n",
      "10           /////         /////       /////         /////       /////   \n",
      "\n",
      "   total time  \n",
      "0    0.153996  \n",
      "1    0.133045  \n",
      "2    0.142992  \n",
      "3    0.178482  \n",
      "4    0.225995  \n",
      "5    0.136001  \n",
      "6    0.149137  \n",
      "7    0.134755  \n",
      "8    0.139999  \n",
      "9    0.137042  \n",
      "10      /////  \n"
     ]
    }
   ],
   "source": [
    "# Display for different size of choices for random heuristic\n",
    "\n",
    "display_dataframe = pd.DataFrame(\n",
    "    {\n",
    "        \"file\": files,\n",
    "        \"method\": methods,\n",
    "        \"clique size\": clique_sizes,\n",
    "        \"instance time\": instance_reading_times,\n",
    "        \"clique time\": clique_creating_times,\n",
    "        \"total time\": total_times,\n",
    "    }\n",
    ")\n",
    "print(display_dataframe)"
   ]
  }
 ],
 "metadata": {
  "kernelspec": {
   "display_name": "Python 3.10.2 ('projet_MH': venv)",
   "language": "python",
   "name": "python3"
  },
  "language_info": {
   "codemirror_mode": {
    "name": "ipython",
    "version": 3
   },
   "file_extension": ".py",
   "mimetype": "text/x-python",
   "name": "python",
   "nbconvert_exporter": "python",
   "pygments_lexer": "ipython3",
   "version": "3.10.2"
  },
  "orig_nbformat": 4,
  "vscode": {
   "interpreter": {
    "hash": "394d83e5b1ffce0d121f660ba29d6d2dfe8b3a88ed0a25224231f21a953d4a07"
   }
  }
 },
 "nbformat": 4,
 "nbformat_minor": 2
}

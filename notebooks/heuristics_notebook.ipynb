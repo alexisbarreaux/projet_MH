{
 "cells": [
  {
   "cell_type": "code",
   "execution_count": 1,
   "metadata": {},
   "outputs": [],
   "source": [
    "# imports\n",
    "from pathlib import Path\n",
    "from time import time\n",
    "\n",
    "import numpy as np\n",
    "import pandas as pd\n",
    "\n",
    "from utils import (\n",
    "    read_single_problem_from_path_as_adjacency,\n",
    "    read_single_problem_from_path_as_sparse,\n",
    "    read_single_problem_from_path_as_sparse_from_adjacency,\n",
    "    order_nodes_in_descending_order,\n",
    "    check_validity_for_adjacency,\n",
    "    transform_node_clique_to_zero_one,\n",
    "    transform_zero_one_clique_to_nodes\n",
    ")\n",
    "from constants import BASE_INSTANCES_FILES, OTHER_INSTANCES_FILES, OTHER_INSTANCES_BEST_KNOWN\n",
    "from heuristics import (\n",
    "    HeuristicRunner,\n",
    "    descending_degree_glutonous_heuristic,\n",
    "    dynamic_descending_degree_glutonous_heuristic,\n",
    "    descending_degree_random_heuristic,\n",
    "    multiple_descending_degree_random_heuristic\n",
    ")\n",
    "\n",
    "# Constants\n",
    "ROOT_DIR = Path.cwd().parent\n",
    "# Instances pathes\n",
    "INSTANCES_DIR = ROOT_DIR / \"instances\"\n",
    "BASE_INSTANCES_DIR = INSTANCES_DIR / \"project_instances\"\n",
    "OTHER_INSTANCES_DIR = INSTANCES_DIR / \"other_instances\"\n"
   ]
  },
  {
   "cell_type": "code",
   "execution_count": 2,
   "metadata": {},
   "outputs": [
    {
     "name": "stdout",
     "output_type": "stream",
     "text": [
      "[[0 1 0 1 1 1 0 0 1 0]\n",
      " [1 0 1 0 1 0 1 1 1 1]\n",
      " [0 1 0 1 0 1 0 0 0 1]\n",
      " [1 0 1 0 0 0 0 0 1 0]\n",
      " [1 1 0 0 0 1 1 1 0 1]\n",
      " [1 0 1 0 1 0 1 0 1 0]\n",
      " [0 1 0 0 1 1 0 1 1 1]\n",
      " [0 1 0 0 1 0 1 0 0 1]\n",
      " [1 1 0 1 0 1 1 0 0 0]\n",
      " [0 1 1 0 1 0 1 1 0 0]]\n",
      "[0 1 0 0 1 0 1 1 0 1]\n",
      "Is the clique valid ?  True\n"
     ]
    }
   ],
   "source": [
    "_, _, graph, degrees = read_single_problem_from_path_as_adjacency(\n",
    "    instance_path=BASE_INSTANCES_DIR / \"random-10.col\"\n",
    ")\n",
    "print(graph)\n",
    "clique = descending_degree_glutonous_heuristic(graph=graph, degrees=degrees)\n",
    "print(clique)\n",
    "print(\"Is the clique valid ? \", check_validity_for_adjacency(graph, clique))\n"
   ]
  },
  {
   "cell_type": "code",
   "execution_count": 3,
   "metadata": {},
   "outputs": [
    {
     "name": "stdout",
     "output_type": "stream",
     "text": [
      "[0 1 0 0 1 0 1 1 0 1]\n",
      "[1, 4, 6, 7, 9]\n",
      "[0 1 0 0 1 0 1 1 0 1]\n"
     ]
    }
   ],
   "source": [
    "# Check that clique representation utils work\n",
    "number_of_nodes, _, graph, degrees = read_single_problem_from_path_as_adjacency(\n",
    "    instance_path=BASE_INSTANCES_DIR / \"random-10.col\"\n",
    ")\n",
    "clique = descending_degree_glutonous_heuristic(graph=graph, degrees=degrees)\n",
    "print(clique)\n",
    "print(transform_zero_one_clique_to_nodes(clique))\n",
    "print(transform_node_clique_to_zero_one(number_of_nodes, transform_zero_one_clique_to_nodes(clique)))"
   ]
  },
  {
   "cell_type": "code",
   "execution_count": 4,
   "metadata": {},
   "outputs": [
    {
     "name": "stdout",
     "output_type": "stream",
     "text": [
      "{}\n",
      "          instance     method clique best  total(s)\n",
      "0   brock200_2.col  desc_base      7   //  0.131788\n",
      "1   brock200_2.col   desc_dyn      7   //   0.16555\n",
      "2   brock200_2.col   desc_ran      7   //  0.153766\n",
      "3   brock200_2.col   mult_ran      8   //  0.277605\n",
      "4              ///        ///    ///  ///       ///\n",
      "5    dsjc125.1.col  desc_base      4   //  0.014187\n",
      "6    dsjc125.1.col   desc_dyn      4   //   0.01527\n",
      "7    dsjc125.1.col   desc_ran      4   //  0.018429\n",
      "8    dsjc125.1.col   mult_ran      3   //  0.091107\n",
      "9              ///        ///    ///  ///       ///\n",
      "10   random-10.col  desc_base      5   //  0.001711\n",
      "11   random-10.col   desc_dyn      5   //  0.008028\n",
      "12   random-10.col   desc_ran      5   //  0.002008\n",
      "13   random-10.col   mult_ran      5   //  0.006372\n",
      "14             ///        ///    ///  ///       ///\n",
      "15  random-100.col  desc_base      8   //  0.031495\n",
      "16  random-100.col   desc_dyn      8   //  0.031066\n",
      "17  random-100.col   desc_ran      8   //  0.029194\n",
      "18  random-100.col   mult_ran      7   //  0.090983\n",
      "19             ///        ///    ///  ///       ///\n",
      "20   random-40.col  desc_base      7   //  0.008653\n",
      "21   random-40.col   desc_dyn      6   //  0.007583\n",
      "22   random-40.col   desc_ran      6   //  0.005593\n",
      "23   random-40.col   mult_ran      6   //  0.030024\n",
      "24             ///        ///    ///  ///       ///\n",
      "25   random-70.col  desc_base      7   //  0.014311\n",
      "26   random-70.col   desc_dyn      7   //  0.023397\n",
      "27   random-70.col   desc_ran      7   //  0.015485\n",
      "28   random-70.col   mult_ran      6   //  0.066318\n",
      "29             ///        ///    ///  ///       ///\n"
     ]
    }
   ],
   "source": [
    "# Test on project instances\n",
    "runner = HeuristicRunner(\n",
    "    instances_dir=BASE_INSTANCES_DIR,\n",
    "    instances=BASE_INSTANCES_FILES,\n",
    "    methods=[\n",
    "        (descending_degree_glutonous_heuristic, \"desc_base\"),\n",
    "        (dynamic_descending_degree_glutonous_heuristic, \"desc_dyn\"),\n",
    "        (descending_degree_random_heuristic, \"desc_ran\"),\n",
    "        (multiple_descending_degree_random_heuristic, \"mult_ran\")\n",
    "    ],\n",
    "    known_bests={},\n",
    "    display_time_details=False\n",
    ")\n",
    "runner.run_all_methods_on_all_instances()\n",
    "runner.display_results()"
   ]
  },
  {
   "cell_type": "code",
   "execution_count": 5,
   "metadata": {},
   "outputs": [
    {
     "name": "stdout",
     "output_type": "stream",
     "text": [
      "{'brock800_4.txt': 26, 'C500.9.txt': 57, 'C2000.5.txt': 16, 'gen400_p0.9_75.txt': 75, 'p_hat700-1.txt': 11, 'p_hat1500-3.txt': 94}\n",
      "              instance     method clique best  total(s)\n",
      "0       brock800_4.txt  desc_base     14   26   1.66716\n",
      "1       brock800_4.txt   desc_dyn     14   26  1.731732\n",
      "2       brock800_4.txt   desc_ran     14   26  1.538241\n",
      "3       brock800_4.txt   mult_ran     16   26  1.841554\n",
      "4                  ///        ///    ///  ///       ///\n",
      "5          C2000.5.txt  desc_base     10   16  5.731333\n",
      "6          C2000.5.txt   desc_dyn     10   16  6.147654\n",
      "7          C2000.5.txt   desc_ran     11   16  5.940005\n",
      "8          C2000.5.txt   mult_ran     11   16  7.689719\n",
      "9                  ///        ///    ///  ///       ///\n",
      "10          C500.9.txt  desc_base     43   57  0.853878\n",
      "11          C500.9.txt   desc_dyn     42   57  1.070398\n",
      "12          C500.9.txt   desc_ran     44   57   0.98454\n",
      "13          C500.9.txt   mult_ran     43   57  1.582353\n",
      "14                 ///        ///    ///  ///       ///\n",
      "15  gen400_p0.9_75.txt  desc_base     47   75  0.652992\n",
      "16  gen400_p0.9_75.txt   desc_dyn     47   75  0.693512\n",
      "17  gen400_p0.9_75.txt   desc_ran     42   75  0.627515\n",
      "18  gen400_p0.9_75.txt   mult_ran     43   75  1.930234\n",
      "19                 ///        ///    ///  ///       ///\n",
      "20     p_hat1500-3.txt  desc_base     75   94  6.220396\n",
      "21     p_hat1500-3.txt   desc_dyn     75   94  4.312439\n",
      "22     p_hat1500-3.txt   desc_ran     76   94  3.373163\n",
      "23     p_hat1500-3.txt   mult_ran     76   94  5.737088\n",
      "24                 ///        ///    ///  ///       ///\n",
      "25      p_hat700-1.txt  desc_base      7   11  0.247488\n",
      "26      p_hat700-1.txt   desc_dyn      7   11  0.291932\n",
      "27      p_hat700-1.txt   desc_ran      8   11  0.224442\n",
      "28      p_hat700-1.txt   mult_ran      7   11  0.416542\n",
      "29                 ///        ///    ///  ///       ///\n"
     ]
    }
   ],
   "source": [
    "# Test on other bigger instances.\n",
    "runner = HeuristicRunner(\n",
    "    instances_dir=OTHER_INSTANCES_DIR,\n",
    "    instances=OTHER_INSTANCES_FILES,\n",
    "    methods=[\n",
    "        (descending_degree_glutonous_heuristic, \"desc_base\"),\n",
    "        (dynamic_descending_degree_glutonous_heuristic, \"desc_dyn\"),\n",
    "        (descending_degree_random_heuristic, \"desc_ran\"),\n",
    "        (multiple_descending_degree_random_heuristic, \"mult_ran\")\n",
    "    ],\n",
    "    known_bests=OTHER_INSTANCES_BEST_KNOWN,\n",
    "    display_time_details=False\n",
    ")\n",
    "runner.run_all_methods_on_all_instances()\n",
    "runner.display_results()"
   ]
  },
  {
   "cell_type": "code",
   "execution_count": 6,
   "metadata": {},
   "outputs": [],
   "source": [
    "# Test different size of choices for the nodes for random heuristic\n",
    "files = []\n",
    "instance_reading_times = []\n",
    "clique_creating_times = []\n",
    "total_times = []\n",
    "clique_sizes = []\n",
    "methods = []\n",
    "\n",
    "for file in [\"brock200_2.col\"]:\n",
    "    for k in range(1, 11):\n",
    "        # Method and file adding\n",
    "        methods.append(f\"multi_ran_{k}\")\n",
    "        files.append(file)\n",
    "\n",
    "        # File loading\n",
    "        start_time = time()\n",
    "        _, _, graph, degrees = read_single_problem_from_path_as_adjacency(\n",
    "            instance_path=BASE_INSTANCES_DIR / file\n",
    "        )\n",
    "        end_of_read_time = time()\n",
    "        instance_reading_times.append(end_of_read_time - start_time)\n",
    "\n",
    "        # Clique building\n",
    "        clique = multiple_descending_degree_random_heuristic(graph=graph, degrees=degrees, size_of_choice=k, number_of_iterations=20)\n",
    "        clique_sizes.append(np.sum(clique))\n",
    "        end_of_clique_time = time()\n",
    "        clique_creating_times.append(end_of_clique_time - end_of_read_time)\n",
    "\n",
    "        assert check_validity_for_adjacency(graph, clique)\n",
    "        total_times.append(time() - start_time)\n",
    "    \n",
    "    # At the end of each method, add visual separator\n",
    "    for display_list in [files, instance_reading_times, clique_creating_times, total_times, clique_sizes, methods]:\n",
    "        display_list.append(\"/////\")\n"
   ]
  },
  {
   "cell_type": "code",
   "execution_count": 7,
   "metadata": {},
   "outputs": [
    {
     "name": "stdout",
     "output_type": "stream",
     "text": [
      "              file        method clique size instance time clique time  \\\n",
      "0   brock200_2.col   multi_ran_1           7      0.067228    0.220125   \n",
      "1   brock200_2.col   multi_ran_2           7      0.069317    0.161296   \n",
      "2   brock200_2.col   multi_ran_3           7      0.046943     0.20663   \n",
      "3   brock200_2.col   multi_ran_4           8       0.05749    0.208605   \n",
      "4   brock200_2.col   multi_ran_5           7        0.0737    0.204007   \n",
      "5   brock200_2.col   multi_ran_6           7      0.054611    0.190381   \n",
      "6   brock200_2.col   multi_ran_7           8      0.057433    0.177959   \n",
      "7   brock200_2.col   multi_ran_8           8      0.056192    0.151159   \n",
      "8   brock200_2.col   multi_ran_9           9       0.04989    0.190565   \n",
      "9   brock200_2.col  multi_ran_10           7      0.063685    0.168607   \n",
      "10           /////         /////       /////         /////       /////   \n",
      "\n",
      "   total time  \n",
      "0    0.288394  \n",
      "1    0.231648  \n",
      "2    0.253573  \n",
      "3    0.266095  \n",
      "4    0.277707  \n",
      "5    0.245993  \n",
      "6    0.235393  \n",
      "7    0.207351  \n",
      "8    0.240455  \n",
      "9    0.240488  \n",
      "10      /////  \n"
     ]
    }
   ],
   "source": [
    "# Display for different size of choices for random heuristic\n",
    "\n",
    "display_dataframe = pd.DataFrame(\n",
    "    {\n",
    "        \"file\": files,\n",
    "        \"method\": methods,\n",
    "        \"clique size\": clique_sizes,\n",
    "        \"instance time\": instance_reading_times,\n",
    "        \"clique time\": clique_creating_times,\n",
    "        \"total time\": total_times,\n",
    "    }\n",
    ")\n",
    "print(display_dataframe)"
   ]
  }
 ],
 "metadata": {
  "kernelspec": {
   "display_name": "Python 3.10.2 ('projet_MH': venv)",
   "language": "python",
   "name": "python3"
  },
  "language_info": {
   "codemirror_mode": {
    "name": "ipython",
    "version": 3
   },
   "file_extension": ".py",
   "mimetype": "text/x-python",
   "name": "python",
   "nbconvert_exporter": "python",
   "pygments_lexer": "ipython3",
   "version": "3.10.2"
  },
  "orig_nbformat": 4,
  "vscode": {
   "interpreter": {
    "hash": "394d83e5b1ffce0d121f660ba29d6d2dfe8b3a88ed0a25224231f21a953d4a07"
   }
  }
 },
 "nbformat": 4,
 "nbformat_minor": 2
}

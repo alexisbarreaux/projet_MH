{
 "cells": [
  {
   "cell_type": "code",
   "execution_count": 1,
   "metadata": {},
   "outputs": [],
   "source": [
    "# imports\n",
    "from pathlib import Path\n",
    "from time import time\n",
    "\n",
    "import numpy as np\n",
    "import pandas as pd\n",
    "from genetics.crossover import genetic_with_crossover\n",
    "from utils import (read_single_problem_from_path_as_adjacency,\n",
    " read_single_problem_from_path_as_sparse, \n",
    " read_single_problem_from_path_as_sparse_from_adjacency,\n",
    " order_nodes_in_descending_order)\n",
    "from constants import BASE_INSTANCES_FILES, OTHER_INSTANCES_FILES, OTHER_INSTANCES_BEST_KNOWN, BASE_INSTANCES_BEST_KNOWN, ALL_BEST_KNOWN\n",
    "\n",
    "# Constants\n",
    "ROOT_DIR = Path.cwd().parent\n",
    "# Instances pathes\n",
    "INSTANCES_DIR = ROOT_DIR / \"instances\"\n",
    "BASE_INSTANCES_DIR = INSTANCES_DIR / \"project_instances\"\n",
    "OTHER_INSTANCES_DIR = INSTANCES_DIR / \"other_instances\""
   ]
  },
  {
   "cell_type": "code",
   "execution_count": 2,
   "metadata": {},
   "outputs": [
    {
     "name": "stderr",
     "output_type": "stream",
     "text": [
      "c:\\Users\\sulia\\Documents\\MPRO\\MH\\projet_MH\\lib\\site-packages\\numpy\\lib\\function_base.py:959: VisibleDeprecationWarning: Creating an ndarray from ragged nested sequences (which is a list-or-tuple of lists-or-tuples-or ndarrays with different lengths or shapes) is deprecated. If you meant to do this, you must specify 'dtype=object' when creating the ndarray.\n",
      "  return array(a, order=order, subok=subok, copy=True)\n"
     ]
    },
    {
     "name": "stdout",
     "output_type": "stream",
     "text": [
      "13\n",
      "13\n",
      "13\n",
      "13\n",
      "13\n",
      "13\n",
      "13\n"
     ]
    },
    {
     "ename": "KeyboardInterrupt",
     "evalue": "",
     "output_type": "error",
     "traceback": [
      "\u001b[1;31m---------------------------------------------------------------------------\u001b[0m",
      "\u001b[1;31mKeyboardInterrupt\u001b[0m                         Traceback (most recent call last)",
      "Cell \u001b[1;32mIn [2], line 25\u001b[0m\n\u001b[0;32m     22\u001b[0m instance_reading_times\u001b[39m.\u001b[39mappend(end_of_read_time \u001b[39m-\u001b[39m start_time)\n\u001b[0;32m     24\u001b[0m \u001b[39m# Clique building\u001b[39;00m\n\u001b[1;32m---> 25\u001b[0m clique \u001b[39m=\u001b[39m genetic_with_crossover(graph, degrees, alpha \u001b[39m=\u001b[39;49m \u001b[39m4\u001b[39;49m\u001b[39m/\u001b[39;49m\u001b[39m5\u001b[39;49m)\n\u001b[0;32m     26\u001b[0m clique_size \u001b[39m=\u001b[39m \u001b[39msum\u001b[39m(clique)\n\u001b[0;32m     27\u001b[0m clique_sizes\u001b[39m.\u001b[39mappend(clique_size)\n",
      "File \u001b[1;32mc:\\Users\\sulia\\Documents\\MPRO\\MH\\projet_MH\\genetics\\crossover.py:55\u001b[0m, in \u001b[0;36mgenetic_with_crossover\u001b[1;34m(graph, degrees, alpha)\u001b[0m\n\u001b[0;32m     53\u001b[0m \u001b[39mfor\u001b[39;00m p \u001b[39min\u001b[39;00m \u001b[39mrange\u001b[39m(couples):\n\u001b[0;32m     54\u001b[0m     \u001b[39mfor\u001b[39;00m _ \u001b[39min\u001b[39;00m \u001b[39mrange\u001b[39m(fertility):\n\u001b[1;32m---> 55\u001b[0m         child \u001b[39m=\u001b[39m crossover(parents[p], parents[p \u001b[39m+\u001b[39;49m \u001b[39mint\u001b[39;49m(mu \u001b[39m/\u001b[39;49m \u001b[39m2\u001b[39;49m)], alpha)\n\u001b[0;32m     56\u001b[0m         \u001b[39mif\u001b[39;00m check_validity_for_adjacency(sub_graph, child[\u001b[39m1\u001b[39m]):\n\u001b[0;32m     57\u001b[0m             children\u001b[39m.\u001b[39mappend(child)\n",
      "File \u001b[1;32mc:\\Users\\sulia\\Documents\\MPRO\\MH\\projet_MH\\genetics\\crossover.py:14\u001b[0m, in \u001b[0;36mcrossover\u001b[1;34m(p1, p2, alpha)\u001b[0m\n\u001b[0;32m     12\u001b[0m \u001b[39mdef\u001b[39;00m \u001b[39mcrossover\u001b[39m(p1: np\u001b[39m.\u001b[39mndarray, p2: np\u001b[39m.\u001b[39mndarray, alpha: \u001b[39mfloat\u001b[39m):\n\u001b[0;32m     13\u001b[0m     n \u001b[39m=\u001b[39m \u001b[39mlen\u001b[39m(p1[\u001b[39m1\u001b[39m])\n\u001b[1;32m---> 14\u001b[0m     child \u001b[39m=\u001b[39m np\u001b[39m.\u001b[39;49mzeros(n)\n\u001b[0;32m     15\u001b[0m     \u001b[39mfor\u001b[39;00m i \u001b[39min\u001b[39;00m \u001b[39mrange\u001b[39m(n):\n\u001b[0;32m     16\u001b[0m         \u001b[39mif\u001b[39;00m rd\u001b[39m.\u001b[39mrandom() \u001b[39m>\u001b[39m alpha:\n",
      "\u001b[1;31mKeyboardInterrupt\u001b[0m: "
     ]
    }
   ],
   "source": [
    "# Test Genetic algorithm with the crossover\n",
    "\n",
    "files = []\n",
    "instance_reading_times = []\n",
    "clique_creating_times = []\n",
    "total_times = []\n",
    "clique_sizes = []\n",
    "methods = []\n",
    "\n",
    "\n",
    "for file in OTHER_INSTANCES_FILES:\n",
    "    methods.append(\"crossover\")\n",
    "    files.append(file)\n",
    "\n",
    "    # File loading\n",
    "    start_time = time()\n",
    "    _,_,graph, degrees = read_single_problem_from_path_as_adjacency(\n",
    "        instance_path=OTHER_INSTANCES_DIR\n",
    "        / file\n",
    "    )\n",
    "    end_of_read_time = time()\n",
    "    instance_reading_times.append(end_of_read_time - start_time)\n",
    "\n",
    "    # Clique building\n",
    "    clique = genetic_with_crossover(graph, degrees, alpha = 4/5)\n",
    "    clique_size = sum(clique)\n",
    "    clique_sizes.append(clique_size)\n",
    "    end_of_clique_time = time()\n",
    "    clique_creating_times.append(end_of_clique_time - end_of_read_time)\n",
    "\n",
    "    total_times.append(time() - start_time)\n",
    "\n",
    "display_dataframe = pd.DataFrame(\n",
    "    {\n",
    "        \"file\": files,\n",
    "        \"method\": methods,\n",
    "        \"clique size\": clique_sizes,\n",
    "        \"instance time\": instance_reading_times,\n",
    "        \"clique time\": clique_creating_times,\n",
    "        \"total time\": total_times,\n",
    "    }\n",
    ")\n",
    "print(display_dataframe)"
   ]
  }
 ],
 "metadata": {
  "kernelspec": {
   "display_name": "Python 3.10.5 ('projet_MH': venv)",
   "language": "python",
   "name": "python3"
  },
  "language_info": {
   "codemirror_mode": {
    "name": "ipython",
    "version": 3
   },
   "file_extension": ".py",
   "mimetype": "text/x-python",
   "name": "python",
   "nbconvert_exporter": "python",
   "pygments_lexer": "ipython3",
   "version": "3.10.5"
  },
  "orig_nbformat": 4,
  "vscode": {
   "interpreter": {
    "hash": "183896e14abb0fccbaad6d82789751f07dc7da7d1b50b324bf0fc429a34b0bfd"
   }
  }
 },
 "nbformat": 4,
 "nbformat_minor": 2
}

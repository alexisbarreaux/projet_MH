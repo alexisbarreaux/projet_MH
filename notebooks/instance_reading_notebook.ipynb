{
 "cells": [
  {
   "cell_type": "code",
   "execution_count": 1,
   "metadata": {},
   "outputs": [],
   "source": [
    "\n",
    "# imports\n",
    "from pathlib import Path\n",
    "from time import time\n",
    "\n",
    "import numpy as np\n",
    "\n",
    "from utils import (read_single_problem_from_path_as_adjacency,\n",
    " read_single_problem_from_path_as_sparse, \n",
    " read_single_problem_from_path_as_sparse_from_adjacency,\n",
    " order_nodes_in_descending_order)\n",
    "from constants import BASE_INSTANCES_FILES\n",
    "\n",
    "# Constants\n",
    "ROOT_DIR = Path.cwd().parent\n",
    "# Instances pathes\n",
    "INSTANCES_DIR = ROOT_DIR / \"instances\"\n",
    "BASE_INSTANCES_DIR = INSTANCES_DIR / \"project_instances\"\n",
    "OTHER_INSTANCES_DIR = INSTANCES_DIR / \"other_instances\""
   ]
  },
  {
   "cell_type": "code",
   "execution_count": 2,
   "metadata": {},
   "outputs": [
    {
     "data": {
      "text/plain": [
       "(10,\n",
       " 25,\n",
       " array([[0, 1, 0, 1, 1, 1, 0, 0, 1, 0],\n",
       "        [1, 0, 1, 0, 1, 0, 1, 1, 1, 1],\n",
       "        [0, 1, 0, 1, 0, 1, 0, 0, 0, 1],\n",
       "        [1, 0, 1, 0, 0, 0, 0, 0, 1, 0],\n",
       "        [1, 1, 0, 0, 0, 1, 1, 1, 0, 1],\n",
       "        [1, 0, 1, 0, 1, 0, 1, 0, 1, 0],\n",
       "        [0, 1, 0, 0, 1, 1, 0, 1, 1, 1],\n",
       "        [0, 1, 0, 0, 1, 0, 1, 0, 0, 1],\n",
       "        [1, 1, 0, 1, 0, 1, 1, 0, 0, 0],\n",
       "        [0, 1, 1, 0, 1, 0, 1, 1, 0, 0]], dtype=int8),\n",
       " array([5, 7, 4, 3, 6, 5, 6, 4, 5, 5], dtype=int8))"
      ]
     },
     "execution_count": 2,
     "metadata": {},
     "output_type": "execute_result"
    }
   ],
   "source": [
    "# Loading an instance\n",
    "read_single_problem_from_path_as_adjacency(\n",
    "    # instance_path=BASE_INSTANCES_DIR/ \"brock200_2.col\"\n",
    "    instance_path=BASE_INSTANCES_DIR\n",
    "    / \"random-10.col\"\n",
    ")"
   ]
  },
  {
   "cell_type": "code",
   "execution_count": 3,
   "metadata": {},
   "outputs": [
    {
     "name": "stdout",
     "output_type": "stream",
     "text": [
      "Mean time from scratch:0.1329460334777832\n"
     ]
    }
   ],
   "source": [
    "\n",
    "# Mean load time for adjacency\n",
    "number_of_loads = 50\n",
    "\n",
    "start_time = time()\n",
    "for _ in range(number_of_loads):\n",
    "    read_single_problem_from_path_as_adjacency(\n",
    "        instance_path=BASE_INSTANCES_DIR / \"brock200_2.col\"\n",
    "    )\n",
    "\n",
    "print(f\"Mean time from scratch:{(time() - start_time)/number_of_loads}\")"
   ]
  },
  {
   "cell_type": "code",
   "execution_count": 4,
   "metadata": {},
   "outputs": [
    {
     "name": "stdout",
     "output_type": "stream",
     "text": [
      "False\n"
     ]
    }
   ],
   "source": [
    "# Creating sparse matrix either from adjacency or scratch and compare\n",
    "(_, _, sparse, _) = read_single_problem_from_path_as_sparse_from_adjacency(\n",
    "    # instance_path=BASE_INSTANCES_DIR/ \"brock200_2.col\"\n",
    "    instance_path=BASE_INSTANCES_DIR\n",
    "    / \"brock200_2.col\"\n",
    ")\n",
    "\n",
    "(_, _, sparse_scratch, _) = read_single_problem_from_path_as_sparse(\n",
    "    # instance_path=BASE_INSTANCES_DIR/ \"brock200_2.col\"\n",
    "    instance_path=BASE_INSTANCES_DIR\n",
    "    / \"brock200_2.col\"\n",
    ")\n",
    "print(np.all(sparse.toarray() == sparse_scratch.toarray()))\n",
    "\n",
    "# The result is now false because the construction of the base sparse matrix is done \n",
    "# as if the graph is oriented."
   ]
  },
  {
   "cell_type": "code",
   "execution_count": 5,
   "metadata": {},
   "outputs": [
    {
     "name": "stdout",
     "output_type": "stream",
     "text": [
      "Mean time from scratch:0.19208970546722412\n",
      "Mean time from adjacency:0.16683557033538818\n"
     ]
    }
   ],
   "source": [
    "# Loading time compared from adjacency or scratch\n",
    "\n",
    "number_of_loads = 50\n",
    "\n",
    "start_time = time()\n",
    "for _ in range(number_of_loads):\n",
    "    read_single_problem_from_path_as_sparse(\n",
    "        instance_path=BASE_INSTANCES_DIR / \"brock200_2.col\"\n",
    "    )\n",
    "\n",
    "print(f\"Mean time from scratch:{(time() - start_time)/number_of_loads}\")\n",
    "\n",
    "start_time = time()\n",
    "for _ in range(number_of_loads):\n",
    "    read_single_problem_from_path_as_sparse_from_adjacency(\n",
    "        instance_path=BASE_INSTANCES_DIR / \"brock200_2.col\"\n",
    "    )\n",
    "\n",
    "print(f\"Mean time from adjacency:{(time() - start_time)/number_of_loads}\")"
   ]
  },
  {
   "cell_type": "code",
   "execution_count": 6,
   "metadata": {},
   "outputs": [
    {
     "name": "stdout",
     "output_type": "stream",
     "text": [
      "Instance // Size of sparse // Size of adjacency\n",
      "brock200_2.col 1188 40128\n",
      "dsjc125.1.col 888 15753\n",
      "random-10.col 428 228\n",
      "random-100.col 788 10128\n",
      "random-40.col 548 1728\n",
      "random-70.col 668 5028\n"
     ]
    }
   ],
   "source": [
    "# Compared sizes of adjacency and sparse matrix\n",
    "print(\"Instance // Size of sparse // Size of adjacency\")\n",
    "for file in BASE_INSTANCES_FILES:\n",
    "    _, _, array, _ = read_single_problem_from_path_as_sparse_from_adjacency(BASE_INSTANCES_DIR / file)\n",
    "    _, _, adjacency, _ = read_single_problem_from_path_as_adjacency(\n",
    "        BASE_INSTANCES_DIR / file\n",
    "    )\n",
    "    from sys import getsizeof\n",
    "\n",
    "    print(\n",
    "        file,\n",
    "        getsizeof(array.indices)\n",
    "        + getsizeof(array.indptr)\n",
    "        + getsizeof(array.data)\n",
    "        + getsizeof(array),\n",
    "        getsizeof(adjacency),\n",
    "    )\n",
    "\n"
   ]
  },
  {
   "cell_type": "code",
   "execution_count": 7,
   "metadata": {},
   "outputs": [
    {
     "name": "stdout",
     "output_type": "stream",
     "text": [
      "[5 7 4 3 6 5 6 4 5 5]\n",
      "[1 4 6 0 5 8 9 2 7 3]\n"
     ]
    }
   ],
   "source": [
    "_,_,_, degrees = read_single_problem_from_path_as_sparse(\n",
    "        instance_path=BASE_INSTANCES_DIR / \"random-10.col\"\n",
    "    )\n",
    "\n",
    "print(degrees)\n",
    "print(order_nodes_in_descending_order(degrees))"
   ]
  },
  {
   "cell_type": "code",
   "execution_count": 8,
   "metadata": {},
   "outputs": [
    {
     "name": "stdout",
     "output_type": "stream",
     "text": [
      "[[0 0 0 0 0 0 0 0 0 0]\n",
      " [1 0 0 0 0 0 0 0 0 0]\n",
      " [0 1 0 0 0 0 0 0 0 0]\n",
      " [1 0 1 0 0 0 0 0 0 0]\n",
      " [1 1 0 0 0 0 0 0 0 0]\n",
      " [1 0 1 0 1 0 0 0 0 0]\n",
      " [0 1 0 0 1 1 0 0 0 0]\n",
      " [0 1 0 0 1 0 1 0 0 0]\n",
      " [1 1 0 1 0 1 1 0 0 0]\n",
      " [0 1 1 0 1 0 1 1 0 0]]\n",
      "[[0 1 0 1 1 1 0 0 1 0]\n",
      " [1 0 1 0 1 0 1 1 1 1]\n",
      " [0 1 0 1 0 1 0 0 0 1]\n",
      " [1 0 1 0 0 0 0 0 1 0]\n",
      " [1 1 0 0 0 1 1 1 0 1]\n",
      " [1 0 1 0 1 0 1 0 1 0]\n",
      " [0 1 0 0 1 1 0 1 1 1]\n",
      " [0 1 0 0 1 0 1 0 0 1]\n",
      " [1 1 0 1 0 1 1 0 0 0]\n",
      " [0 1 1 0 1 0 1 1 0 0]]\n",
      "[0 1 0 2 0 1 0 2 4 1 4 5 1 4 6 0 1 3 5 6 1 2 4 6 7]\n",
      "[1 3 4 5 8 0 2 4 6 7 8 9 1 3 5 9 0 2 8 0 1 5 6 7 9 0 2 4 6 8 1 4 5 7 8 9 1\n",
      " 4 6 9 0 1 3 5 6 1 2 4 6 7]\n"
     ]
    }
   ],
   "source": [
    "_,_,graph, _ = read_single_problem_from_path_as_sparse(\n",
    "        instance_path=BASE_INSTANCES_DIR / \"random-10.col\"\n",
    "    )\n",
    "\n",
    "_,_,graph_from_adj, _ = read_single_problem_from_path_as_sparse_from_adjacency(\n",
    "        instance_path=BASE_INSTANCES_DIR / \"random-10.col\"\n",
    "    )\n",
    "\n",
    "print(graph.toarray())\n",
    "print(graph_from_adj.toarray())\n",
    "print(graph.indices)\n",
    "print(graph_from_adj.indices)"
   ]
  }
 ],
 "metadata": {
  "kernelspec": {
   "display_name": "Python 3.10.2 ('projet_MH': venv)",
   "language": "python",
   "name": "python3"
  },
  "language_info": {
   "codemirror_mode": {
    "name": "ipython",
    "version": 3
   },
   "file_extension": ".py",
   "mimetype": "text/x-python",
   "name": "python",
   "nbconvert_exporter": "python",
   "pygments_lexer": "ipython3",
   "version": "3.10.2"
  },
  "orig_nbformat": 4,
  "vscode": {
   "interpreter": {
    "hash": "394d83e5b1ffce0d121f660ba29d6d2dfe8b3a88ed0a25224231f21a953d4a07"
   }
  }
 },
 "nbformat": 4,
 "nbformat_minor": 2
}

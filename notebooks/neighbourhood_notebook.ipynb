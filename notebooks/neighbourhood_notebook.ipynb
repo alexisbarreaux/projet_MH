{
 "cells": [
  {
   "cell_type": "code",
   "execution_count": 2,
   "metadata": {},
   "outputs": [],
   "source": [
    "from time import time\n",
    "\n",
    "import numpy as np\n",
    "\n",
    "from utils.neighbourhood_utils import i_th_bit_flip_neighbourhood, i_th_nodes_removal_neighbour"
   ]
  },
  {
   "cell_type": "code",
   "execution_count": 3,
   "metadata": {},
   "outputs": [
    {
     "name": "stdout",
     "output_type": "stream",
     "text": [
      "[(0, 1), (0, 2), (0, 3), (0, 4), (0, 5), (0, 6), (0, 7), (0, 8), (0, 9), (1, 2), (1, 3), (1, 4), (1, 5), (1, 6), (1, 7), (1, 8), (1, 9), (2, 3), (2, 4), (2, 5), (2, 6), (2, 7), (2, 8), (2, 9), (3, 4), (3, 5), (3, 6), (3, 7), (3, 8), (3, 9), (4, 5), (4, 6), (4, 7), (4, 8), (4, 9), (5, 6), (5, 7), (5, 8), (5, 9), (6, 7), (6, 8), (6, 9), (7, 8), (7, 9), (8, 9)]\n"
     ]
    }
   ],
   "source": [
    "# Building combinations.\n",
    "import itertools\n",
    "\n",
    "positions = np.arange(10)\n",
    "print(list(itertools.combinations(positions, 2)))"
   ]
  },
  {
   "cell_type": "code",
   "execution_count": 4,
   "metadata": {},
   "outputs": [
    {
     "name": "stdout",
     "output_type": "stream",
     "text": [
      "[1 1 1 0 1 0 0 1 1 1]\n"
     ]
    },
    {
     "data": {
      "text/plain": [
       "[array([0, 0, 0, 0, 1, 0, 0, 1, 1, 1]),\n",
       " array([0, 0, 1, 1, 1, 0, 0, 1, 1, 1]),\n",
       " array([0, 0, 1, 0, 0, 0, 0, 1, 1, 1]),\n",
       " array([0, 0, 1, 0, 1, 1, 0, 1, 1, 1]),\n",
       " array([0, 0, 1, 0, 1, 0, 1, 1, 1, 1]),\n",
       " array([0, 0, 1, 0, 1, 0, 0, 0, 1, 1]),\n",
       " array([0, 0, 1, 0, 1, 0, 0, 1, 0, 1]),\n",
       " array([0, 0, 1, 0, 1, 0, 0, 1, 1, 0]),\n",
       " array([0, 1, 0, 1, 1, 0, 0, 1, 1, 1]),\n",
       " array([0, 1, 0, 0, 0, 0, 0, 1, 1, 1])]"
      ]
     },
     "execution_count": 4,
     "metadata": {},
     "output_type": "execute_result"
    }
   ],
   "source": [
    "# Building neighbourhood of a binary array\n",
    "array = np.random.binomial(n=1, p=0.5, size=[10])\n",
    "print(array)\n",
    "# Display first ten neighbours\n",
    "i_th_bit_flip_neighbourhood(array, i=3)[:10]"
   ]
  },
  {
   "cell_type": "code",
   "execution_count": 5,
   "metadata": {},
   "outputs": [
    {
     "name": "stdout",
     "output_type": "stream",
     "text": [
      "[1 1 0 0 1 0 0 0 0 0 0 0 1 0 1 0 0 1 0 0 1 0 1 0 0 1 1 0 0 0 1 0 1 0 1 0 0\n",
      " 1 1 1 1 0 1 1 0 1 1 0 0 1 0 1 1 0 1 0 1 0 1 0 1 0 0 0 1 0 0 0 0 0 1 1 1 1\n",
      " 1 0 0 0 0 1 1 1 0 1 1 0 1 0 1 0 1 0 1 1 0 1 1 1 1 1 1 0 1 1 0 1 1 0 0 0 0\n",
      " 0 0 1 1 1 1 1 1 1 0 1 1 0 1 0 0 1 1 0 1 0 0 1 0 0 1 1 1 0 1 1 1 0 0 0 0 0\n",
      " 0 1 0 1 0 1 0 0 1 0 0 0 0 0 0 0 1 0 1 0 0 0 1 0 0 0 0 0 1 0 0 0 1 0 1 0 1\n",
      " 0 1 0 0 1 1 0 1 1 0 0 0 0 0 1]\n",
      "Mean time 5.123775851726532\n",
      "1313400\n"
     ]
    }
   ],
   "source": [
    "# Building neighbourhood of a bigger size\n",
    "array = np.random.binomial(n=1, p=0.5, size=[200])\n",
    "print(array)\n",
    "# Display first ten neighbours\n",
    "start = time()\n",
    "for _ in range(5):\n",
    "    i_th_bit_flip_neighbourhood(array, i=3)[:10]\n",
    "print(\"Mean time\", (time() - start)/20)\n",
    "\n",
    "print(len(i_th_bit_flip_neighbourhood(array, i=3)))"
   ]
  },
  {
   "cell_type": "code",
   "execution_count": 6,
   "metadata": {},
   "outputs": [
    {
     "name": "stdout",
     "output_type": "stream",
     "text": [
      "[0 0 1 1 1 0 0 1 1 1]\n",
      "[7]\n",
      "[4, 8]\n",
      "[2, 7, 3]\n"
     ]
    }
   ],
   "source": [
    "array = np.random.binomial(n=1, p=0.5, size=[10])\n",
    "print(array)\n",
    "print(i_th_nodes_removal_neighbour(array=array, i=1))\n",
    "print(i_th_nodes_removal_neighbour(array=array, i=2))\n",
    "print(i_th_nodes_removal_neighbour(array=array, i=3))"
   ]
  }
 ],
 "metadata": {
  "kernelspec": {
   "display_name": "Python 3.10.2 ('projet_MH': venv)",
   "language": "python",
   "name": "python3"
  },
  "language_info": {
   "codemirror_mode": {
    "name": "ipython",
    "version": 3
   },
   "file_extension": ".py",
   "mimetype": "text/x-python",
   "name": "python",
   "nbconvert_exporter": "python",
   "pygments_lexer": "ipython3",
   "version": "3.10.2"
  },
  "orig_nbformat": 4,
  "vscode": {
   "interpreter": {
    "hash": "394d83e5b1ffce0d121f660ba29d6d2dfe8b3a88ed0a25224231f21a953d4a07"
   }
  }
 },
 "nbformat": 4,
 "nbformat_minor": 2
}
